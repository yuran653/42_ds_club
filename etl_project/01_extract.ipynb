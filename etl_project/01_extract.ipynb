{
  "cells": [
    {
      "cell_type": "markdown",
      "metadata": {
        "id": "dgEhmL4CvUs8"
      },
      "source": [
        "# Extract of ETL (Extract-Transform-Load) pipeline\n",
        "[Link to GitHub](https://github.com/stanislavlia/datascience_club_projects/blob/main/project1_etl_pipeline/extract.py)"
      ]
    },
    {
      "cell_type": "markdown",
      "metadata": {
        "id": "qdOJSU8dyRfa"
      },
      "source": [
        "It is crucial to use a `venv` (virtual environment) in Python to establish an isolated environment for project dependencies that ensures the following:\n",
        "\n",
        "1. **Dependency Management**: Projects can have their specific packages and versions without worrying about interfering with other projects.\n",
        "2. **Environment Consistency**: Code runs the same regardless of where it's executed, as long as the same basic setup is used because of the independent management of dependencies from the system Python environment.\n",
        "3. **Easy Cleanup**: When no longer needed, a project's dependencies can be \"uninstalled\" simply by deleting the `venv` directory without any danger of messing up other projects.\n",
        "\n",
        "In short, `venv` maintains clean environments across Python projects.\n",
        "\n",
        "[Documentation](https://docs.python.org/3/library/venv.html)"
      ]
    },
    {
      "cell_type": "code",
      "execution_count": 15,
      "metadata": {
        "colab": {
          "base_uri": "https://localhost:8080/"
        },
        "id": "0m1C6UiV24eK",
        "outputId": "86fc4693-00cd-4cad-d5d5-7430e6f0272c"
      },
      "outputs": [
        {
          "name": "stdout",
          "output_type": "stream",
          "text": [
            "The operation couldn’t be completed. Unable to locate a Java Runtime.\n",
            "Please visit http://www.java.com for information on installing Java.\n",
            "\n"
          ]
        }
      ],
      "source": [
        "# Install the Python3 virtual environment package\n",
        "!apt install python3-venv"
      ]
    },
    {
      "cell_type": "code",
      "execution_count": 16,
      "metadata": {
        "id": "RIdMMPfK2sdF"
      },
      "outputs": [],
      "source": [
        "# Create a virtual environment named 'etl_venv'\n",
        "!python3 -m venv etl_venv"
      ]
    },
    {
      "cell_type": "code",
      "execution_count": 17,
      "metadata": {
        "id": "q44CNhre3CCn"
      },
      "outputs": [],
      "source": [
        "# Activate the virtual environment 'etl_venv'\n",
        "!source etl_venv/bin/activate"
      ]
    },
    {
      "cell_type": "markdown",
      "metadata": {
        "id": "g6AKm7ebwx9a"
      },
      "source": [
        "**pip** is Python's package installer, allowing to download, install, and manage libraries and dependencies.\n",
        "\n",
        "[Documnetation](https://pip.pypa.io/en/stable/)"
      ]
    },
    {
      "cell_type": "code",
      "execution_count": 18,
      "metadata": {
        "colab": {
          "base_uri": "https://localhost:8080/"
        },
        "id": "BL07FuzB2oqi",
        "outputId": "cbd5b68e-0e2f-4634-eb9e-f8a73471a5a0"
      },
      "outputs": [
        {
          "name": "stdout",
          "output_type": "stream",
          "text": [
            "Package            Version\n",
            "------------------ -----------\n",
            "appnope            0.1.4\n",
            "asttokens          2.4.1\n",
            "certifi            2024.8.30\n",
            "charset-normalizer 3.4.0\n",
            "click              8.1.7\n",
            "comm               0.2.2\n",
            "country-converter  1.2\n",
            "debugpy            1.8.7\n",
            "decorator          5.1.1\n",
            "exceptiongroup     1.2.2\n",
            "executing          2.1.0\n",
            "idna               3.10\n",
            "ipykernel          6.29.5\n",
            "ipython            8.29.0\n",
            "jedi               0.19.1\n",
            "jupyter_client     8.6.3\n",
            "jupyter_core       5.7.2\n",
            "matplotlib-inline  0.1.7\n",
            "nest-asyncio       1.6.0\n",
            "numpy              2.1.3\n",
            "packaging          24.1\n",
            "pandas             2.2.3\n",
            "parso              0.8.4\n",
            "pexpect            4.9.0\n",
            "phonenumbers       8.13.49\n",
            "pip                24.3.1\n",
            "platformdirs       4.3.6\n",
            "prettyprint        0.1.5\n",
            "prompt_toolkit     3.0.48\n",
            "psutil             6.1.0\n",
            "ptyprocess         0.7.0\n",
            "pure_eval          0.2.3\n",
            "Pygments           2.18.0\n",
            "python-dateutil    2.9.0.post0\n",
            "pytz               2024.2\n",
            "pyzmq              26.2.0\n",
            "requests           2.32.3\n",
            "setuptools         63.2.0\n",
            "six                1.16.0\n",
            "stack-data         0.6.3\n",
            "tornado            6.4.1\n",
            "tqdm               4.66.6\n",
            "traitlets          5.14.3\n",
            "typing_extensions  4.12.2\n",
            "tzdata             2024.2\n",
            "urllib3            2.2.3\n",
            "wcwidth            0.2.13\n"
          ]
        }
      ],
      "source": [
        "# List all installed packages in the current environment\n",
        "!pip3 list"
      ]
    },
    {
      "cell_type": "code",
      "execution_count": 19,
      "metadata": {
        "colab": {
          "base_uri": "https://localhost:8080/"
        },
        "id": "CgjULPfkyxYX",
        "outputId": "331102f4-ee29-4dc4-f42a-49b313372b1b"
      },
      "outputs": [
        {
          "name": "stdout",
          "output_type": "stream",
          "text": [
            "Requirement already satisfied: pip in /Users/yuran653/42_ds_club/.venv/lib/python3.10/site-packages (24.3.1)\n",
            "Requirement already satisfied: requests in /Users/yuran653/42_ds_club/.venv/lib/python3.10/site-packages (2.32.3)\n",
            "Requirement already satisfied: charset-normalizer<4,>=2 in /Users/yuran653/42_ds_club/.venv/lib/python3.10/site-packages (from requests) (3.4.0)\n",
            "Requirement already satisfied: idna<4,>=2.5 in /Users/yuran653/42_ds_club/.venv/lib/python3.10/site-packages (from requests) (3.10)\n",
            "Requirement already satisfied: urllib3<3,>=1.21.1 in /Users/yuran653/42_ds_club/.venv/lib/python3.10/site-packages (from requests) (2.2.3)\n",
            "Requirement already satisfied: certifi>=2017.4.17 in /Users/yuran653/42_ds_club/.venv/lib/python3.10/site-packages (from requests) (2024.8.30)\n",
            "Requirement already satisfied: prettyprint in /Users/yuran653/42_ds_club/.venv/lib/python3.10/site-packages (0.1.5)\n",
            "Requirement already satisfied: tqdm in /Users/yuran653/42_ds_club/.venv/lib/python3.10/site-packages (4.66.6)\n",
            "Requirement already satisfied: click in /Users/yuran653/42_ds_club/.venv/lib/python3.10/site-packages (8.1.7)\n"
          ]
        }
      ],
      "source": [
        "# Upgrade pip to the latest version\n",
        "!pip3 install --upgrade pip\n",
        "\n",
        "# Install the modules\n",
        "!pip3 install requests\n",
        "!pip3 install prettyprint\n",
        "!pip3 install tqdm\n",
        "!pip3 install click"
      ]
    },
    {
      "cell_type": "code",
      "execution_count": 20,
      "metadata": {
        "colab": {
          "base_uri": "https://localhost:8080/"
        },
        "id": "TAEmEe6n1Pm3",
        "outputId": "19e501ee-963e-4940-cd5b-855c4a2c3146"
      },
      "outputs": [
        {
          "name": "stdout",
          "output_type": "stream",
          "text": [
            "Name: prettyprint\n",
            "Version: 0.1.5\n",
            "Summary: prettyprint print list/dict/tuple object prettily\n",
            "Home-page: http://github.com/taichino/prettyprint\n",
            "Author: Matsumoto Taichi\n",
            "Author-email: taichino@gmail.com\n",
            "License: MIT License\n",
            "Location: /Users/yuran653/42_ds_club/.venv/lib/python3.10/site-packages\n",
            "Requires: \n",
            "Required-by: \n",
            "\n",
            "Name: requests\n",
            "Version: 2.32.3\n",
            "Summary: Python HTTP for Humans.\n",
            "Home-page: https://requests.readthedocs.io\n",
            "Author: Kenneth Reitz\n",
            "Author-email: me@kennethreitz.org\n",
            "License: Apache-2.0\n",
            "Location: /Users/yuran653/42_ds_club/.venv/lib/python3.10/site-packages\n",
            "Requires: certifi, charset-normalizer, idna, urllib3\n",
            "Required-by: \n",
            "\n",
            "Name: tqdm\n",
            "Version: 4.66.6\n",
            "Summary: Fast, Extensible Progress Meter\n",
            "Home-page: https://tqdm.github.io\n",
            "Author: \n",
            "Author-email: \n",
            "License: MPL-2.0 AND MIT\n",
            "Location: /Users/yuran653/42_ds_club/.venv/lib/python3.10/site-packages\n",
            "Requires: \n",
            "Required-by: \n",
            "\n",
            "Name: click\n",
            "Version: 8.1.7\n",
            "Summary: Composable command line interface toolkit\n",
            "Home-page: https://palletsprojects.com/p/click/\n",
            "Author: \n",
            "Author-email: \n",
            "License: BSD-3-Clause\n",
            "Location: /Users/yuran653/42_ds_club/.venv/lib/python3.10/site-packages\n",
            "Requires: \n",
            "Required-by: \n"
          ]
        }
      ],
      "source": [
        "# Show details of the packages\n",
        "!pip3 show prettyprint\n",
        "!echo \"\"\n",
        "!pip3 show requests\n",
        "!echo \"\"\n",
        "!pip3 show tqdm\n",
        "!echo \"\"\n",
        "!pip3 show click"
      ]
    },
    {
      "cell_type": "markdown",
      "metadata": {
        "id": "FweoaawIBKZJ"
      },
      "source": [
        "**Used Python Modules:**\n",
        "\n",
        "[Requests: HTTP for Humans](https://requests.readthedocs.io/)\n",
        "\n",
        "[pprint — Data pretty printer](https://docs.python.org/3/library/pprint.html)\n",
        "\n",
        "[json — JSON encoder and decoder](https://docs.python.org/3/library/json.html)\n",
        "\n",
        "[tqdm.std - Customisable progressbar decorator for iterators](https://tqdm.github.io/docs/tqdm/)\n",
        "\n",
        "[time — Time access and conversions](https://docs.python.org/3/library/time.html)\n",
        "\n",
        "[Click - package for creating CLI](https://click.palletsprojects.com/)\n",
        "\n",
        "[Click and Python: Build Extensible and Composable CLI Apps](https://realpython.com/python-click/)"
      ]
    },
    {
      "cell_type": "code",
      "execution_count": 21,
      "metadata": {
        "id": "N4GrOocvwqYo"
      },
      "outputs": [],
      "source": [
        "# Import the libraries\n",
        "import requests\n",
        "from pprint import pprint\n",
        "import json\n",
        "from tqdm import tqdm\n",
        "from datetime import datetime\n",
        "import click"
      ]
    },
    {
      "cell_type": "markdown",
      "metadata": {
        "id": "PzHr8gq21HTW"
      },
      "source": [
        "**HTTP** or Hypertext Transfer Protocol, is the foundational protocol for transferring data over the Internet. It operates as an application layer protocol within the TCP/IP suite, enabling communication between clients and servers.\n",
        "\n",
        "[What is HTTP?](https://www.w3schools.com/whatis/whatis_http.asp)\n",
        "\n",
        "[HTTP Request Components](https://www.helloapi.co/blog/what-is-http-request/#http-request-components)\n",
        "\n",
        "[HTTP Response Components](https://brightdata.jp/glossary/http-response)"
      ]
    },
    {
      "cell_type": "markdown",
      "metadata": {
        "id": "nHEElhLO_Up5"
      },
      "source": [
        "**API** (Application Programming Interface) is the tools that facilitate communication and interaction between different software applications. It defines a set of rules and protocols that enable developers to request and exchange information, allowing applications to access functionalities or data from other software components or services.\n",
        "\n",
        "[What is API?](https://www.developerupdates.com/blog/what-is-api-learn-about-api-in-5-minutes)"
      ]
    },
    {
      "cell_type": "code",
      "execution_count": 22,
      "metadata": {
        "id": "fs5AO_f5wvU8"
      },
      "outputs": [],
      "source": [
        "# Set up global variable for API URL\n",
        "RANDOMUSER_API_URL = \"https://randomuser.me/api/\""
      ]
    },
    {
      "cell_type": "code",
      "execution_count": 23,
      "metadata": {
        "id": "yFdAAzPKw0ps"
      },
      "outputs": [],
      "source": [
        "# Define function to parse JSON data into a structured dictionary\n",
        "def parse_json(user_json: dict) -> dict:\n",
        "    # Extract ID\n",
        "    id = user_json[\"results\"][0][\"id\"][\"name\"] + \" \" + str(user_json[\"results\"][0][\"id\"][\"value\"])\n",
        "\n",
        "    # Extract name details\n",
        "    first_name = user_json[\"results\"][0][\"name\"][\"first\"]\n",
        "    last_name = user_json[\"results\"][0][\"name\"][\"last\"]\n",
        "\n",
        "    # Extract location details\n",
        "    location_city = user_json[\"results\"][0][\"location\"][\"city\"]\n",
        "    location_country = user_json[\"results\"][0][\"location\"][\"country\"]\n",
        "    location_latitude = user_json[\"results\"][0][\"location\"][\"coordinates\"][\"latitude\"]\n",
        "    location_longitude = user_json[\"results\"][0][\"location\"][\"coordinates\"][\"longitude\"]\n",
        "    location_postcode = user_json[\"results\"][0][\"location\"][\"postcode\"]\n",
        "    location_state = user_json[\"results\"][0][\"location\"][\"state\"]\n",
        "    location_street_info = f\"{user_json['results'][0]['location']['street']['name']}, {user_json['results'][0]['location']['street']['number']}\"\n",
        "\n",
        "    # Extract other fields\n",
        "    email = user_json[\"results\"][0].get(\"email\")\n",
        "    gender = user_json[\"results\"][0].get(\"gender\")\n",
        "\n",
        "    # Extract login details\n",
        "    login_uuid = user_json[\"results\"][0][\"login\"].get(\"uuid\")\n",
        "    login_username = user_json[\"results\"][0][\"login\"].get(\"username\")\n",
        "    login_password = user_json[\"results\"][0][\"login\"].get(\"password\")\n",
        "\n",
        "    # Extract contact details\n",
        "    phone = user_json[\"results\"][0].get(\"phone\")\n",
        "    cell = user_json[\"results\"][0].get(\"cell\")\n",
        "\n",
        "    # Extract date of birth and registration details\n",
        "    date_of_birth = user_json[\"results\"][0][\"dob\"].get(\"date\")\n",
        "    age = user_json[\"results\"][0][\"dob\"].get(\"age\")\n",
        "    date_of_registration = user_json[\"results\"][0][\"registered\"].get(\"date\")\n",
        "\n",
        "    # Extract picture link\n",
        "    photo_link = user_json[\"results\"][0][\"picture\"].get(\"large\")\n",
        "\n",
        "    # Capture the extract date and time\n",
        "    extract_time = str(datetime.now())\n",
        "\n",
        "    # Return structured dictionary with extracted information\n",
        "    return {\n",
        "        \"id\": id,\n",
        "        \"firstname\": first_name,\n",
        "        \"lastname\": last_name,\n",
        "        \"location_city\": location_city,\n",
        "        \"location_country\": location_country,\n",
        "        \"location_state\": location_state,\n",
        "        \"location_latitude\": location_latitude,\n",
        "        \"location_longitude\": location_longitude,\n",
        "        \"location_postcode\": location_postcode,\n",
        "        \"location_street_info\": location_street_info,\n",
        "        \"email\": email,\n",
        "        \"gender\": gender,\n",
        "        \"login_uuid\": login_uuid,\n",
        "        \"login_username\": login_username,\n",
        "        \"login_password\": login_password,\n",
        "        \"phone\": phone,\n",
        "        \"cell\": cell,\n",
        "        \"date_of_birth\": date_of_birth,\n",
        "        \"age\": age,\n",
        "        \"date_of_registration\": date_of_registration,\n",
        "        \"photo_link\": photo_link,\n",
        "        \"extract_time\" : extract_time\n",
        "    }"
      ]
    },
    {
      "cell_type": "code",
      "execution_count": 24,
      "metadata": {
        "id": "hWpWb9ipw2js"
      },
      "outputs": [],
      "source": [
        "# Define function to fetch user data from the API\n",
        "def fetch_user_from_api(url: str):\n",
        "\n",
        "    # Send GET request to the specified URL\n",
        "    r = requests.get(url=url)\n",
        "\n",
        "    # Parse the response as JSON\n",
        "    user_json = r.json()\n",
        "\n",
        "    # Process the JSON data into a structured format\n",
        "    parsed_user = parse_json(user_json)\n",
        "\n",
        "    # Return the parsed user data\n",
        "    return parsed_user"
      ]
    },
    {
      "cell_type": "code",
      "execution_count": 25,
      "metadata": {
        "id": "KBNU_ni2w4m7"
      },
      "outputs": [],
      "source": [
        "# Define function to load batch user data from the API and save to file\n",
        "def load_batch_data(result_path: str, n_users: int):\n",
        "\n",
        "    #Print start info\n",
        "    print(f\"Collecting data from {RANDOMUSER_API_URL}; n_users = {n_users}\")\n",
        "\n",
        "    # Initialize empty list to store user data\n",
        "    users = []\n",
        "\n",
        "    # Loop to fetch specified number of users, with progress bar display\n",
        "    for _ in tqdm(range(n_users), desc=\"Fetching users from API...\"):\n",
        "\n",
        "        # Fetch individual user data from API and append to users list\n",
        "        user = fetch_user_from_api(url=RANDOMUSER_API_URL)\n",
        "        users.append(user)\n",
        "\n",
        "    # Save the collected user data to a JSON file\n",
        "    batch_data = {\"n_users\": n_users, \"users\": users}\n",
        "\n",
        "    print(\"Saving users to file \", result_path)\n",
        "    with open(result_path, \"w\") as file:\n",
        "        json.dump(batch_data, file, indent=2, ensure_ascii=False)\n",
        "\n",
        "    # Confirm job completion\n",
        "    print(\"JOB IS DONE\")\n"
      ]
    },
    {
      "cell_type": "code",
      "execution_count": 26,
      "metadata": {
        "id": "UtGo__5dsGMk"
      },
      "outputs": [],
      "source": [
        "# Define command-line interface for loading batch user data\n",
        "@click.command()\n",
        "@click.option('--result_path', type=str, help='Path to save loaded batch of users')\n",
        "@click.option('--n_users', type=int, help='How many users to fetch from API')\n",
        "def load_batch_cli(result_path: str, n_users: int):\n",
        "\n",
        "    # Call the function to load batch data with provided CLI arguments\n",
        "    load_batch_data(result_path=result_path, n_users=n_users)\n"
      ]
    },
    {
      "cell_type": "markdown",
      "metadata": {
        "id": "osSuiQBYGymb"
      },
      "source": [
        "**How to use (CLI)**\n",
        "\n",
        "`python3 extract.py --result_path batch100users.json --n_users 100`\n",
        "\n",
        "`python3 extract.py --result_path batch15users.json --n_users 15`"
      ]
    },
    {
      "cell_type": "code",
      "execution_count": 27,
      "metadata": {
        "id": "2s49oCkM41sK"
      },
      "outputs": [],
      "source": [
        "# load_batch_cli()  # Uncomment to enable CLI functionality when running as a standalone Python script"
      ]
    },
    {
      "cell_type": "code",
      "execution_count": 28,
      "metadata": {
        "colab": {
          "base_uri": "https://localhost:8080/"
        },
        "id": "yl28370y4afw",
        "outputId": "1fa83118-673d-4d0f-89d0-d27298fc2cf5"
      },
      "outputs": [
        {
          "name": "stdout",
          "output_type": "stream",
          "text": [
            "Collecting data from https://randomuser.me/api/; n_users = 1000\n"
          ]
        },
        {
          "name": "stderr",
          "output_type": "stream",
          "text": [
            "Fetching users from API...: 100%|██████████| 1000/1000 [10:04<00:00,  1.66it/s]"
          ]
        },
        {
          "name": "stdout",
          "output_type": "stream",
          "text": [
            "Saving users to file  batch1000users.json\n",
            "JOB IS DONE\n"
          ]
        },
        {
          "name": "stderr",
          "output_type": "stream",
          "text": [
            "\n"
          ]
        }
      ],
      "source": [
        "# Run CLI function if script is executed directly (for instance in Colab)\n",
        "if __name__ == \"__main__\":\n",
        "    import sys\n",
        "\n",
        "    sys.argv = sys.argv[:1]\n",
        "\n",
        "    path = 'batch1000users.json'\n",
        "    num = 1000\n",
        "\n",
        "    with click.Context(load_batch_cli) as ctx:\n",
        "        ctx.invoke(load_batch_cli, result_path=path, n_users=num)"
      ]
    },
    {
      "cell_type": "code",
      "execution_count": 29,
      "metadata": {
        "id": "wOWZYjEgxEpd"
      },
      "outputs": [],
      "source": [
        "#How to use\n",
        "#python3 extract.py --result_path batch100users.json --n_users 100\n",
        "#python3 extract.py --result_path batch15users.json --n_users 15"
      ]
    }
  ],
  "metadata": {
    "colab": {
      "provenance": []
    },
    "kernelspec": {
      "display_name": ".venv",
      "language": "python",
      "name": "python3"
    },
    "language_info": {
      "codemirror_mode": {
        "name": "ipython",
        "version": 3
      },
      "file_extension": ".py",
      "mimetype": "text/x-python",
      "name": "python",
      "nbconvert_exporter": "python",
      "pygments_lexer": "ipython3",
      "version": "3.10.7"
    }
  },
  "nbformat": 4,
  "nbformat_minor": 0
}
