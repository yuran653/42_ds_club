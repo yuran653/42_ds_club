{
  "cells": [
    {
      "cell_type": "markdown",
      "metadata": {
        "id": "Nc-AyQg1ZDZv"
      },
      "source": [
        "# Transform of ETL (Extract-Transform-Load) pipeline\n",
        "[Link to GitHub](https://github.com/stanislavlia/datascience_club_projects/blob/main/project1_etl_pipeline/transform.py)"
      ]
    },
    {
      "cell_type": "code",
      "execution_count": 37,
      "metadata": {},
      "outputs": [
        {
          "name": "stdout",
          "output_type": "stream",
          "text": [
            "Requirement already satisfied: pandas in /Users/yuran653/42_ds_club/.venv/lib/python3.10/site-packages (2.2.3)\n",
            "Requirement already satisfied: numpy>=1.22.4 in /Users/yuran653/42_ds_club/.venv/lib/python3.10/site-packages (from pandas) (2.1.3)\n",
            "Requirement already satisfied: python-dateutil>=2.8.2 in /Users/yuran653/42_ds_club/.venv/lib/python3.10/site-packages (from pandas) (2.9.0.post0)\n",
            "Requirement already satisfied: pytz>=2020.1 in /Users/yuran653/42_ds_club/.venv/lib/python3.10/site-packages (from pandas) (2024.2)\n",
            "Requirement already satisfied: tzdata>=2022.7 in /Users/yuran653/42_ds_club/.venv/lib/python3.10/site-packages (from pandas) (2024.2)\n",
            "Requirement already satisfied: six>=1.5 in /Users/yuran653/42_ds_club/.venv/lib/python3.10/site-packages (from python-dateutil>=2.8.2->pandas) (1.16.0)\n"
          ]
        }
      ],
      "source": [
        "!pip3 install pandas"
      ]
    },
    {
      "cell_type": "code",
      "execution_count": 38,
      "metadata": {
        "id": "SKVteEMLf9tR"
      },
      "outputs": [],
      "source": [
        "# Import Pandas and json modules\n",
        "import pandas as pd\n",
        "import json"
      ]
    },
    {
      "cell_type": "code",
      "execution_count": 39,
      "metadata": {
        "id": "5pDCmVF8YgX5"
      },
      "outputs": [],
      "source": [
        "# Define the file path for the batch of users (extracted in a previous phase) in JSON format\n",
        "# Note: Update the path as needed to point to the correct location of your batch file\n",
        "# BATCH_PATH = '/content/drive/MyDrive/42_DS_Club/01_ETL_pipeline/batch1000users.json'\n",
        "BATCH_PATH = 'batch1000users.json'"
      ]
    },
    {
      "cell_type": "code",
      "execution_count": 40,
      "metadata": {
        "id": "aKTTHw9FtFyx"
      },
      "outputs": [],
      "source": [
        "# Open the JSON file at the specified BATCH_PATH in read mode\n",
        "with open(BATCH_PATH, \"r\") as file:\n",
        "    # Load the JSON content from the file into 'batch_json' dictionary\n",
        "    batch_json = json.load(file)"
      ]
    },
    {
      "cell_type": "code",
      "execution_count": 41,
      "metadata": {
        "colab": {
          "base_uri": "https://localhost:8080/"
        },
        "id": "0wlFO9LQtksl",
        "outputId": "6f3ad208-254a-4188-8212-08adb1db9530"
      },
      "outputs": [
        {
          "data": {
            "text/plain": [
              "{'id': ' None',\n",
              " 'firstname': 'Zoe',\n",
              " 'lastname': 'Hughes',\n",
              " 'location_city': 'Rotorua',\n",
              " 'location_country': 'New Zealand',\n",
              " 'location_state': 'West Coast',\n",
              " 'location_latitude': '51.0772',\n",
              " 'location_longitude': '20.2298',\n",
              " 'location_postcode': 99745,\n",
              " 'location_street_info': 'Dickens Street, 6673',\n",
              " 'email': 'zoe.hughes@example.com',\n",
              " 'gender': 'female',\n",
              " 'login_uuid': 'f43fa3bf-f5d5-4fc7-b71e-e449a6e14d49',\n",
              " 'login_username': 'tinywolf377',\n",
              " 'login_password': 'bayern',\n",
              " 'phone': '(390)-282-6078',\n",
              " 'cell': '(473)-269-9959',\n",
              " 'date_of_birth': '1961-11-14T15:28:39.716Z',\n",
              " 'age': 62,\n",
              " 'date_of_registration': '2014-02-17T19:00:29.633Z',\n",
              " 'photo_link': 'https://randomuser.me/api/portraits/women/64.jpg',\n",
              " 'extract_time': '2024-11-05 19:46:14.892076'}"
            ]
          },
          "execution_count": 41,
          "metadata": {},
          "output_type": "execute_result"
        }
      ],
      "source": [
        "from random import randint\n",
        "\n",
        "# Select a random user from the 'users' list in 'batch_json'\n",
        "batch_json['users'][randint(0, len(batch_json['users']) - 1)]"
      ]
    },
    {
      "cell_type": "markdown",
      "metadata": {
        "id": "ISoT216rcgIW"
      },
      "source": [
        "**[Pandas](https://pandas.pydata.org/)**\n",
        "\n",
        "Pandas is a powerful, open-source data analysis and manipulation library for Python. It’s widely used in data science, finance, statistics, and any field where data analysis is essential. With Pandas, you can effortlessly work with large datasets, transforming raw data into clean, organized formats.\n",
        "\n",
        "The primary data structure in Padas is **[DataFrame](https://pandas.pydata.org/docs/reference/api/pandas.DataFrame.html)**. It is two-dimensional, size-mutable, potentially heterogeneous tabular data.\n",
        "\n",
        "For an easy introduction to Pandas, it’s **highly** recommended to complete a **[Pandas course on Kaggle](https://www.kaggle.com/learn/pandas)**"
      ]
    },
    {
      "cell_type": "code",
      "execution_count": 42,
      "metadata": {
        "id": "tzW31150vZyh"
      },
      "outputs": [],
      "source": [
        "# Create a DataFrame from the 'users' data in the dictionary 'batch_json'\n",
        "df = pd.DataFrame(batch_json[\"users\"])"
      ]
    },
    {
      "cell_type": "code",
      "execution_count": 43,
      "metadata": {
        "colab": {
          "base_uri": "https://localhost:8080/",
          "height": 349
        },
        "id": "eDu8xLVdvz-y",
        "outputId": "be92aacc-eafc-4ddb-f525-a4a143c3922e"
      },
      "outputs": [
        {
          "data": {
            "text/html": [
              "<div>\n",
              "<style scoped>\n",
              "    .dataframe tbody tr th:only-of-type {\n",
              "        vertical-align: middle;\n",
              "    }\n",
              "\n",
              "    .dataframe tbody tr th {\n",
              "        vertical-align: top;\n",
              "    }\n",
              "\n",
              "    .dataframe thead th {\n",
              "        text-align: right;\n",
              "    }\n",
              "</style>\n",
              "<table border=\"1\" class=\"dataframe\">\n",
              "  <thead>\n",
              "    <tr style=\"text-align: right;\">\n",
              "      <th></th>\n",
              "      <th>id</th>\n",
              "      <th>firstname</th>\n",
              "      <th>lastname</th>\n",
              "      <th>location_city</th>\n",
              "      <th>location_country</th>\n",
              "      <th>location_state</th>\n",
              "      <th>location_latitude</th>\n",
              "      <th>location_longitude</th>\n",
              "      <th>location_postcode</th>\n",
              "      <th>location_street_info</th>\n",
              "      <th>...</th>\n",
              "      <th>login_uuid</th>\n",
              "      <th>login_username</th>\n",
              "      <th>login_password</th>\n",
              "      <th>phone</th>\n",
              "      <th>cell</th>\n",
              "      <th>date_of_birth</th>\n",
              "      <th>age</th>\n",
              "      <th>date_of_registration</th>\n",
              "      <th>photo_link</th>\n",
              "      <th>extract_time</th>\n",
              "    </tr>\n",
              "  </thead>\n",
              "  <tbody>\n",
              "    <tr>\n",
              "      <th>0</th>\n",
              "      <td>UIDAI 767726925886</td>\n",
              "      <td>Pramitha</td>\n",
              "      <td>Almeida</td>\n",
              "      <td>Katni</td>\n",
              "      <td>India</td>\n",
              "      <td>Sikkim</td>\n",
              "      <td>9.4609</td>\n",
              "      <td>78.4463</td>\n",
              "      <td>22200</td>\n",
              "      <td>Rasta Peth, 9600</td>\n",
              "      <td>...</td>\n",
              "      <td>80d9fb7d-2c68-4a0a-8a76-8dfc22f21faf</td>\n",
              "      <td>happylion849</td>\n",
              "      <td>idontknow</td>\n",
              "      <td>7911969693</td>\n",
              "      <td>9779964598</td>\n",
              "      <td>1997-12-14T17:29:08.037Z</td>\n",
              "      <td>26</td>\n",
              "      <td>2018-05-24T06:52:04.724Z</td>\n",
              "      <td>https://randomuser.me/api/portraits/women/12.jpg</td>\n",
              "      <td>2024-11-05 19:36:33.766316</td>\n",
              "    </tr>\n",
              "    <tr>\n",
              "      <th>1</th>\n",
              "      <td>CPR 060898-9765</td>\n",
              "      <td>Marcus</td>\n",
              "      <td>Madsen</td>\n",
              "      <td>Samsø</td>\n",
              "      <td>Denmark</td>\n",
              "      <td>Syddanmark</td>\n",
              "      <td>-40.0968</td>\n",
              "      <td>-158.0918</td>\n",
              "      <td>35306</td>\n",
              "      <td>Præstevej, 400</td>\n",
              "      <td>...</td>\n",
              "      <td>87e0abf4-c2ed-4ff9-9432-2f9318f8e1cf</td>\n",
              "      <td>bluecat257</td>\n",
              "      <td>cyber</td>\n",
              "      <td>15959079</td>\n",
              "      <td>58165315</td>\n",
              "      <td>1998-08-06T10:11:20.306Z</td>\n",
              "      <td>26</td>\n",
              "      <td>2014-09-14T03:14:47.150Z</td>\n",
              "      <td>https://randomuser.me/api/portraits/men/22.jpg</td>\n",
              "      <td>2024-11-05 19:36:34.178473</td>\n",
              "    </tr>\n",
              "    <tr>\n",
              "      <th>2</th>\n",
              "      <td>SIN 172905911</td>\n",
              "      <td>Tristan</td>\n",
              "      <td>Chan</td>\n",
              "      <td>Richmond</td>\n",
              "      <td>Canada</td>\n",
              "      <td>Nova Scotia</td>\n",
              "      <td>-72.5582</td>\n",
              "      <td>-79.3374</td>\n",
              "      <td>F9Q 6V4</td>\n",
              "      <td>Bay Ave, 4544</td>\n",
              "      <td>...</td>\n",
              "      <td>e2e73b7e-d430-4bfb-a28c-374c60fae58f</td>\n",
              "      <td>orangerabbit314</td>\n",
              "      <td>beatles</td>\n",
              "      <td>K09 Q93-5986</td>\n",
              "      <td>K17 N11-3266</td>\n",
              "      <td>1970-12-23T17:47:13.557Z</td>\n",
              "      <td>53</td>\n",
              "      <td>2007-08-14T08:56:12.806Z</td>\n",
              "      <td>https://randomuser.me/api/portraits/men/78.jpg</td>\n",
              "      <td>2024-11-05 19:36:34.724902</td>\n",
              "    </tr>\n",
              "  </tbody>\n",
              "</table>\n",
              "<p>3 rows × 22 columns</p>\n",
              "</div>"
            ],
            "text/plain": [
              "                   id firstname lastname location_city location_country  \\\n",
              "0  UIDAI 767726925886  Pramitha  Almeida         Katni            India   \n",
              "1     CPR 060898-9765    Marcus   Madsen         Samsø          Denmark   \n",
              "2       SIN 172905911   Tristan     Chan      Richmond           Canada   \n",
              "\n",
              "  location_state location_latitude location_longitude location_postcode  \\\n",
              "0         Sikkim            9.4609            78.4463             22200   \n",
              "1     Syddanmark          -40.0968          -158.0918             35306   \n",
              "2    Nova Scotia          -72.5582           -79.3374           F9Q 6V4   \n",
              "\n",
              "  location_street_info  ...                            login_uuid  \\\n",
              "0     Rasta Peth, 9600  ...  80d9fb7d-2c68-4a0a-8a76-8dfc22f21faf   \n",
              "1       Præstevej, 400  ...  87e0abf4-c2ed-4ff9-9432-2f9318f8e1cf   \n",
              "2        Bay Ave, 4544  ...  e2e73b7e-d430-4bfb-a28c-374c60fae58f   \n",
              "\n",
              "    login_username login_password         phone          cell  \\\n",
              "0     happylion849      idontknow    7911969693    9779964598   \n",
              "1       bluecat257          cyber      15959079      58165315   \n",
              "2  orangerabbit314        beatles  K09 Q93-5986  K17 N11-3266   \n",
              "\n",
              "              date_of_birth age      date_of_registration  \\\n",
              "0  1997-12-14T17:29:08.037Z  26  2018-05-24T06:52:04.724Z   \n",
              "1  1998-08-06T10:11:20.306Z  26  2014-09-14T03:14:47.150Z   \n",
              "2  1970-12-23T17:47:13.557Z  53  2007-08-14T08:56:12.806Z   \n",
              "\n",
              "                                         photo_link  \\\n",
              "0  https://randomuser.me/api/portraits/women/12.jpg   \n",
              "1    https://randomuser.me/api/portraits/men/22.jpg   \n",
              "2    https://randomuser.me/api/portraits/men/78.jpg   \n",
              "\n",
              "                 extract_time  \n",
              "0  2024-11-05 19:36:33.766316  \n",
              "1  2024-11-05 19:36:34.178473  \n",
              "2  2024-11-05 19:36:34.724902  \n",
              "\n",
              "[3 rows x 22 columns]"
            ]
          },
          "execution_count": 43,
          "metadata": {},
          "output_type": "execute_result"
        }
      ],
      "source": [
        "# Display the first 3 rows of the DataFrame\n",
        "df.head(3)"
      ]
    },
    {
      "cell_type": "code",
      "execution_count": 44,
      "metadata": {
        "colab": {
          "base_uri": "https://localhost:8080/",
          "height": 516
        },
        "id": "x4kZyKLdv4xH",
        "outputId": "9aa46c04-e930-4373-b11c-ebd1bcbe44f6"
      },
      "outputs": [
        {
          "data": {
            "text/html": [
              "<div>\n",
              "<style scoped>\n",
              "    .dataframe tbody tr th:only-of-type {\n",
              "        vertical-align: middle;\n",
              "    }\n",
              "\n",
              "    .dataframe tbody tr th {\n",
              "        vertical-align: top;\n",
              "    }\n",
              "\n",
              "    .dataframe thead th {\n",
              "        text-align: right;\n",
              "    }\n",
              "</style>\n",
              "<table border=\"1\" class=\"dataframe\">\n",
              "  <thead>\n",
              "    <tr style=\"text-align: right;\">\n",
              "      <th></th>\n",
              "      <th>id</th>\n",
              "      <th>firstname</th>\n",
              "      <th>lastname</th>\n",
              "      <th>location_city</th>\n",
              "      <th>location_country</th>\n",
              "      <th>location_state</th>\n",
              "      <th>location_latitude</th>\n",
              "      <th>location_longitude</th>\n",
              "      <th>location_postcode</th>\n",
              "      <th>location_street_info</th>\n",
              "      <th>...</th>\n",
              "      <th>login_uuid</th>\n",
              "      <th>login_username</th>\n",
              "      <th>login_password</th>\n",
              "      <th>phone</th>\n",
              "      <th>cell</th>\n",
              "      <th>date_of_birth</th>\n",
              "      <th>age</th>\n",
              "      <th>date_of_registration</th>\n",
              "      <th>photo_link</th>\n",
              "      <th>extract_time</th>\n",
              "    </tr>\n",
              "  </thead>\n",
              "  <tbody>\n",
              "    <tr>\n",
              "      <th>526</th>\n",
              "      <td>CPF 834.416.453-43</td>\n",
              "      <td>Amália</td>\n",
              "      <td>Moura</td>\n",
              "      <td>Governador Valadares</td>\n",
              "      <td>Brazil</td>\n",
              "      <td>Mato Grosso</td>\n",
              "      <td>-80.9963</td>\n",
              "      <td>79.4486</td>\n",
              "      <td>46013</td>\n",
              "      <td>Rua Principal, 6432</td>\n",
              "      <td>...</td>\n",
              "      <td>0a80a856-66fe-481e-9a82-5e973549d562</td>\n",
              "      <td>blackgoose932</td>\n",
              "      <td>ladder</td>\n",
              "      <td>(32) 6834-1419</td>\n",
              "      <td>(43) 9488-7554</td>\n",
              "      <td>1978-08-22T04:41:30.647Z</td>\n",
              "      <td>46</td>\n",
              "      <td>2012-04-20T03:02:51.202Z</td>\n",
              "      <td>https://randomuser.me/api/portraits/women/22.jpg</td>\n",
              "      <td>2024-11-05 19:42:06.190961</td>\n",
              "    </tr>\n",
              "    <tr>\n",
              "      <th>335</th>\n",
              "      <td>SID 029934676</td>\n",
              "      <td>Mita</td>\n",
              "      <td>Stojanović</td>\n",
              "      <td>Bogatić</td>\n",
              "      <td>Serbia</td>\n",
              "      <td>North Banat</td>\n",
              "      <td>57.8566</td>\n",
              "      <td>-60.7184</td>\n",
              "      <td>89519</td>\n",
              "      <td>Dušana Damjanovića, 8151</td>\n",
              "      <td>...</td>\n",
              "      <td>8c4d326e-30a7-4b90-8124-36d8a31e5f73</td>\n",
              "      <td>bigelephant301</td>\n",
              "      <td>applepie</td>\n",
              "      <td>022-0939-423</td>\n",
              "      <td>061-1445-589</td>\n",
              "      <td>1969-06-23T07:38:37.951Z</td>\n",
              "      <td>55</td>\n",
              "      <td>2019-07-22T01:09:18.724Z</td>\n",
              "      <td>https://randomuser.me/api/portraits/men/51.jpg</td>\n",
              "      <td>2024-11-05 19:39:59.605502</td>\n",
              "    </tr>\n",
              "    <tr>\n",
              "      <th>119</th>\n",
              "      <td>UIDAI 546234630920</td>\n",
              "      <td>Divyesh</td>\n",
              "      <td>Shenoy</td>\n",
              "      <td>Bijapur</td>\n",
              "      <td>India</td>\n",
              "      <td>Assam</td>\n",
              "      <td>11.1029</td>\n",
              "      <td>-81.9331</td>\n",
              "      <td>72703</td>\n",
              "      <td>Kasba Peth, 5748</td>\n",
              "      <td>...</td>\n",
              "      <td>5d59621b-a019-4777-ac09-f5c851b8341c</td>\n",
              "      <td>angrylion981</td>\n",
              "      <td>sherman</td>\n",
              "      <td>8075220725</td>\n",
              "      <td>8374265261</td>\n",
              "      <td>1963-09-26T17:28:24.346Z</td>\n",
              "      <td>61</td>\n",
              "      <td>2018-06-23T11:02:14.754Z</td>\n",
              "      <td>https://randomuser.me/api/portraits/men/52.jpg</td>\n",
              "      <td>2024-11-05 19:37:41.547663</td>\n",
              "    </tr>\n",
              "    <tr>\n",
              "      <th>768</th>\n",
              "      <td>TFN 757772714</td>\n",
              "      <td>Nathaniel</td>\n",
              "      <td>Montgomery</td>\n",
              "      <td>Port Macquarie</td>\n",
              "      <td>Australia</td>\n",
              "      <td>Western Australia</td>\n",
              "      <td>-81.7499</td>\n",
              "      <td>-57.4535</td>\n",
              "      <td>7352</td>\n",
              "      <td>Central St, 3728</td>\n",
              "      <td>...</td>\n",
              "      <td>b9951ae1-50ae-44df-9507-5d55145ab9cf</td>\n",
              "      <td>angrykoala408</td>\n",
              "      <td>faster</td>\n",
              "      <td>00-2366-6894</td>\n",
              "      <td>0468-996-835</td>\n",
              "      <td>1992-06-07T04:03:47.533Z</td>\n",
              "      <td>32</td>\n",
              "      <td>2009-08-21T01:12:55.546Z</td>\n",
              "      <td>https://randomuser.me/api/portraits/men/34.jpg</td>\n",
              "      <td>2024-11-05 19:44:30.131099</td>\n",
              "    </tr>\n",
              "    <tr>\n",
              "      <th>112</th>\n",
              "      <td>SSN 655-05-9197</td>\n",
              "      <td>Brooklyn</td>\n",
              "      <td>Green</td>\n",
              "      <td>West Covina</td>\n",
              "      <td>United States</td>\n",
              "      <td>Maryland</td>\n",
              "      <td>88.2853</td>\n",
              "      <td>93.0050</td>\n",
              "      <td>10792</td>\n",
              "      <td>Valley View Ln, 7337</td>\n",
              "      <td>...</td>\n",
              "      <td>25b6bdf6-0edb-4e18-a0ee-0f3afacb15a5</td>\n",
              "      <td>tinybear974</td>\n",
              "      <td>uuuuuuuu</td>\n",
              "      <td>(777) 236-3448</td>\n",
              "      <td>(348) 272-9910</td>\n",
              "      <td>1956-05-29T23:47:09.197Z</td>\n",
              "      <td>68</td>\n",
              "      <td>2015-05-10T23:27:31.068Z</td>\n",
              "      <td>https://randomuser.me/api/portraits/women/95.jpg</td>\n",
              "      <td>2024-11-05 19:37:37.801794</td>\n",
              "    </tr>\n",
              "  </tbody>\n",
              "</table>\n",
              "<p>5 rows × 22 columns</p>\n",
              "</div>"
            ],
            "text/plain": [
              "                     id  firstname    lastname         location_city  \\\n",
              "526  CPF 834.416.453-43     Amália       Moura  Governador Valadares   \n",
              "335       SID 029934676       Mita  Stojanović               Bogatić   \n",
              "119  UIDAI 546234630920    Divyesh      Shenoy               Bijapur   \n",
              "768       TFN 757772714  Nathaniel  Montgomery        Port Macquarie   \n",
              "112     SSN 655-05-9197   Brooklyn       Green           West Covina   \n",
              "\n",
              "    location_country     location_state location_latitude location_longitude  \\\n",
              "526           Brazil        Mato Grosso          -80.9963            79.4486   \n",
              "335           Serbia        North Banat           57.8566           -60.7184   \n",
              "119            India              Assam           11.1029           -81.9331   \n",
              "768        Australia  Western Australia          -81.7499           -57.4535   \n",
              "112    United States           Maryland           88.2853            93.0050   \n",
              "\n",
              "    location_postcode      location_street_info  ...  \\\n",
              "526             46013       Rua Principal, 6432  ...   \n",
              "335             89519  Dušana Damjanovića, 8151  ...   \n",
              "119             72703          Kasba Peth, 5748  ...   \n",
              "768              7352          Central St, 3728  ...   \n",
              "112             10792      Valley View Ln, 7337  ...   \n",
              "\n",
              "                               login_uuid  login_username login_password  \\\n",
              "526  0a80a856-66fe-481e-9a82-5e973549d562   blackgoose932         ladder   \n",
              "335  8c4d326e-30a7-4b90-8124-36d8a31e5f73  bigelephant301       applepie   \n",
              "119  5d59621b-a019-4777-ac09-f5c851b8341c    angrylion981        sherman   \n",
              "768  b9951ae1-50ae-44df-9507-5d55145ab9cf   angrykoala408         faster   \n",
              "112  25b6bdf6-0edb-4e18-a0ee-0f3afacb15a5     tinybear974       uuuuuuuu   \n",
              "\n",
              "              phone            cell             date_of_birth age  \\\n",
              "526  (32) 6834-1419  (43) 9488-7554  1978-08-22T04:41:30.647Z  46   \n",
              "335    022-0939-423    061-1445-589  1969-06-23T07:38:37.951Z  55   \n",
              "119      8075220725      8374265261  1963-09-26T17:28:24.346Z  61   \n",
              "768    00-2366-6894    0468-996-835  1992-06-07T04:03:47.533Z  32   \n",
              "112  (777) 236-3448  (348) 272-9910  1956-05-29T23:47:09.197Z  68   \n",
              "\n",
              "         date_of_registration  \\\n",
              "526  2012-04-20T03:02:51.202Z   \n",
              "335  2019-07-22T01:09:18.724Z   \n",
              "119  2018-06-23T11:02:14.754Z   \n",
              "768  2009-08-21T01:12:55.546Z   \n",
              "112  2015-05-10T23:27:31.068Z   \n",
              "\n",
              "                                           photo_link  \\\n",
              "526  https://randomuser.me/api/portraits/women/22.jpg   \n",
              "335    https://randomuser.me/api/portraits/men/51.jpg   \n",
              "119    https://randomuser.me/api/portraits/men/52.jpg   \n",
              "768    https://randomuser.me/api/portraits/men/34.jpg   \n",
              "112  https://randomuser.me/api/portraits/women/95.jpg   \n",
              "\n",
              "                   extract_time  \n",
              "526  2024-11-05 19:42:06.190961  \n",
              "335  2024-11-05 19:39:59.605502  \n",
              "119  2024-11-05 19:37:41.547663  \n",
              "768  2024-11-05 19:44:30.131099  \n",
              "112  2024-11-05 19:37:37.801794  \n",
              "\n",
              "[5 rows x 22 columns]"
            ]
          },
          "execution_count": 44,
          "metadata": {},
          "output_type": "execute_result"
        }
      ],
      "source": [
        "# Display a random sample of 5 rows from the DataFrame\n",
        "df.sample(5)"
      ]
    },
    {
      "cell_type": "code",
      "execution_count": 45,
      "metadata": {
        "colab": {
          "base_uri": "https://localhost:8080/",
          "height": 349
        },
        "id": "K1k9TV04vz2e",
        "outputId": "7ff8e03d-4a49-4caa-8d32-64b4fa6b18ef"
      },
      "outputs": [
        {
          "data": {
            "text/html": [
              "<div>\n",
              "<style scoped>\n",
              "    .dataframe tbody tr th:only-of-type {\n",
              "        vertical-align: middle;\n",
              "    }\n",
              "\n",
              "    .dataframe tbody tr th {\n",
              "        vertical-align: top;\n",
              "    }\n",
              "\n",
              "    .dataframe thead th {\n",
              "        text-align: right;\n",
              "    }\n",
              "</style>\n",
              "<table border=\"1\" class=\"dataframe\">\n",
              "  <thead>\n",
              "    <tr style=\"text-align: right;\">\n",
              "      <th></th>\n",
              "      <th>id</th>\n",
              "      <th>firstname</th>\n",
              "      <th>lastname</th>\n",
              "      <th>location_city</th>\n",
              "      <th>location_country</th>\n",
              "      <th>location_state</th>\n",
              "      <th>location_latitude</th>\n",
              "      <th>location_longitude</th>\n",
              "      <th>location_postcode</th>\n",
              "      <th>location_street_info</th>\n",
              "      <th>...</th>\n",
              "      <th>login_uuid</th>\n",
              "      <th>login_username</th>\n",
              "      <th>login_password</th>\n",
              "      <th>phone</th>\n",
              "      <th>cell</th>\n",
              "      <th>date_of_birth</th>\n",
              "      <th>age</th>\n",
              "      <th>date_of_registration</th>\n",
              "      <th>photo_link</th>\n",
              "      <th>extract_time</th>\n",
              "    </tr>\n",
              "  </thead>\n",
              "  <tbody>\n",
              "    <tr>\n",
              "      <th>997</th>\n",
              "      <td>AVS 756.4831.6954.36</td>\n",
              "      <td>Andrée</td>\n",
              "      <td>Duval</td>\n",
              "      <td>Wigoltingen</td>\n",
              "      <td>Switzerland</td>\n",
              "      <td>Valais</td>\n",
              "      <td>-61.0750</td>\n",
              "      <td>85.0447</td>\n",
              "      <td>5011</td>\n",
              "      <td>Rue Abel-Hovelacque, 1202</td>\n",
              "      <td>...</td>\n",
              "      <td>043815fd-f0ac-44cd-8980-0d65c1795a99</td>\n",
              "      <td>beautifulbird832</td>\n",
              "      <td>kristine</td>\n",
              "      <td>077 365 68 44</td>\n",
              "      <td>078 881 31 38</td>\n",
              "      <td>1967-04-07T04:27:22.374Z</td>\n",
              "      <td>57</td>\n",
              "      <td>2009-09-03T16:51:13.978Z</td>\n",
              "      <td>https://randomuser.me/api/portraits/women/73.jpg</td>\n",
              "      <td>2024-11-05 19:46:55.487354</td>\n",
              "    </tr>\n",
              "    <tr>\n",
              "      <th>998</th>\n",
              "      <td>SID 854371445</td>\n",
              "      <td>Slaviša</td>\n",
              "      <td>Karadžić</td>\n",
              "      <td>Medveđa</td>\n",
              "      <td>Serbia</td>\n",
              "      <td>Toplica</td>\n",
              "      <td>57.0486</td>\n",
              "      <td>-165.3553</td>\n",
              "      <td>27930</td>\n",
              "      <td>Zlate Petković , 1624</td>\n",
              "      <td>...</td>\n",
              "      <td>b482f7e3-69d7-4d15-b72c-e48c7070f7d2</td>\n",
              "      <td>blackrabbit923</td>\n",
              "      <td>invest</td>\n",
              "      <td>020-4094-814</td>\n",
              "      <td>065-9633-612</td>\n",
              "      <td>1959-04-07T06:49:29.902Z</td>\n",
              "      <td>65</td>\n",
              "      <td>2012-12-22T04:52:20.287Z</td>\n",
              "      <td>https://randomuser.me/api/portraits/men/79.jpg</td>\n",
              "      <td>2024-11-05 19:46:56.149614</td>\n",
              "    </tr>\n",
              "    <tr>\n",
              "      <th>999</th>\n",
              "      <td>NINO SG 14 83 84 E</td>\n",
              "      <td>Vicky</td>\n",
              "      <td>Jones</td>\n",
              "      <td>Chester</td>\n",
              "      <td>United Kingdom</td>\n",
              "      <td>Surrey</td>\n",
              "      <td>-10.0509</td>\n",
              "      <td>23.5341</td>\n",
              "      <td>I2 4JQ</td>\n",
              "      <td>The Drive, 6992</td>\n",
              "      <td>...</td>\n",
              "      <td>f7b1bd3d-8997-4204-a0a6-e9ac83d4e3b8</td>\n",
              "      <td>happytiger628</td>\n",
              "      <td>odessa</td>\n",
              "      <td>017687 53378</td>\n",
              "      <td>07252 462420</td>\n",
              "      <td>1980-11-05T05:27:34.005Z</td>\n",
              "      <td>44</td>\n",
              "      <td>2017-12-21T15:07:49.241Z</td>\n",
              "      <td>https://randomuser.me/api/portraits/women/50.jpg</td>\n",
              "      <td>2024-11-05 19:46:56.764478</td>\n",
              "    </tr>\n",
              "  </tbody>\n",
              "</table>\n",
              "<p>3 rows × 22 columns</p>\n",
              "</div>"
            ],
            "text/plain": [
              "                       id firstname  lastname location_city location_country  \\\n",
              "997  AVS 756.4831.6954.36    Andrée     Duval   Wigoltingen      Switzerland   \n",
              "998         SID 854371445   Slaviša  Karadžić       Medveđa           Serbia   \n",
              "999    NINO SG 14 83 84 E     Vicky     Jones       Chester   United Kingdom   \n",
              "\n",
              "    location_state location_latitude location_longitude location_postcode  \\\n",
              "997         Valais          -61.0750            85.0447              5011   \n",
              "998        Toplica           57.0486          -165.3553             27930   \n",
              "999         Surrey          -10.0509            23.5341            I2 4JQ   \n",
              "\n",
              "          location_street_info  ...                            login_uuid  \\\n",
              "997  Rue Abel-Hovelacque, 1202  ...  043815fd-f0ac-44cd-8980-0d65c1795a99   \n",
              "998      Zlate Petković , 1624  ...  b482f7e3-69d7-4d15-b72c-e48c7070f7d2   \n",
              "999            The Drive, 6992  ...  f7b1bd3d-8997-4204-a0a6-e9ac83d4e3b8   \n",
              "\n",
              "       login_username login_password          phone           cell  \\\n",
              "997  beautifulbird832       kristine  077 365 68 44  078 881 31 38   \n",
              "998    blackrabbit923         invest   020-4094-814   065-9633-612   \n",
              "999     happytiger628         odessa   017687 53378   07252 462420   \n",
              "\n",
              "                date_of_birth age      date_of_registration  \\\n",
              "997  1967-04-07T04:27:22.374Z  57  2009-09-03T16:51:13.978Z   \n",
              "998  1959-04-07T06:49:29.902Z  65  2012-12-22T04:52:20.287Z   \n",
              "999  1980-11-05T05:27:34.005Z  44  2017-12-21T15:07:49.241Z   \n",
              "\n",
              "                                           photo_link  \\\n",
              "997  https://randomuser.me/api/portraits/women/73.jpg   \n",
              "998    https://randomuser.me/api/portraits/men/79.jpg   \n",
              "999  https://randomuser.me/api/portraits/women/50.jpg   \n",
              "\n",
              "                   extract_time  \n",
              "997  2024-11-05 19:46:55.487354  \n",
              "998  2024-11-05 19:46:56.149614  \n",
              "999  2024-11-05 19:46:56.764478  \n",
              "\n",
              "[3 rows x 22 columns]"
            ]
          },
          "execution_count": 45,
          "metadata": {},
          "output_type": "execute_result"
        }
      ],
      "source": [
        "# Display the last 3 rows of the DataFrame\n",
        "df.tail(3)"
      ]
    },
    {
      "cell_type": "code",
      "execution_count": 46,
      "metadata": {
        "colab": {
          "base_uri": "https://localhost:8080/"
        },
        "id": "7xLv55JDwRWW",
        "outputId": "e80da52d-8f0d-4239-e3e4-f2b2d77e8b5d"
      },
      "outputs": [
        {
          "name": "stdout",
          "output_type": "stream",
          "text": [
            "<class 'pandas.core.frame.DataFrame'>\n",
            "RangeIndex: 1000 entries, 0 to 999\n",
            "Data columns (total 22 columns):\n",
            " #   Column                Non-Null Count  Dtype \n",
            "---  ------                --------------  ----- \n",
            " 0   id                    1000 non-null   object\n",
            " 1   firstname             1000 non-null   object\n",
            " 2   lastname              1000 non-null   object\n",
            " 3   location_city         1000 non-null   object\n",
            " 4   location_country      1000 non-null   object\n",
            " 5   location_state        1000 non-null   object\n",
            " 6   location_latitude     1000 non-null   object\n",
            " 7   location_longitude    1000 non-null   object\n",
            " 8   location_postcode     1000 non-null   object\n",
            " 9   location_street_info  1000 non-null   object\n",
            " 10  email                 1000 non-null   object\n",
            " 11  gender                1000 non-null   object\n",
            " 12  login_uuid            1000 non-null   object\n",
            " 13  login_username        1000 non-null   object\n",
            " 14  login_password        1000 non-null   object\n",
            " 15  phone                 1000 non-null   object\n",
            " 16  cell                  1000 non-null   object\n",
            " 17  date_of_birth         1000 non-null   object\n",
            " 18  age                   1000 non-null   int64 \n",
            " 19  date_of_registration  1000 non-null   object\n",
            " 20  photo_link            1000 non-null   object\n",
            " 21  extract_time          1000 non-null   object\n",
            "dtypes: int64(1), object(21)\n",
            "memory usage: 172.0+ KB\n"
          ]
        }
      ],
      "source": [
        "# Display a concise summary of the DataFrame\n",
        "df.info()"
      ]
    },
    {
      "cell_type": "code",
      "execution_count": 47,
      "metadata": {
        "colab": {
          "base_uri": "https://localhost:8080/",
          "height": 424
        },
        "id": "a2X6QDuCNeXm",
        "outputId": "e4542b99-69fe-4e03-dc9d-8b1e63c1df81"
      },
      "outputs": [
        {
          "data": {
            "text/html": [
              "<div>\n",
              "<style scoped>\n",
              "    .dataframe tbody tr th:only-of-type {\n",
              "        vertical-align: middle;\n",
              "    }\n",
              "\n",
              "    .dataframe tbody tr th {\n",
              "        vertical-align: top;\n",
              "    }\n",
              "\n",
              "    .dataframe thead th {\n",
              "        text-align: right;\n",
              "    }\n",
              "</style>\n",
              "<table border=\"1\" class=\"dataframe\">\n",
              "  <thead>\n",
              "    <tr style=\"text-align: right;\">\n",
              "      <th></th>\n",
              "      <th>location_latitude</th>\n",
              "      <th>location_longitude</th>\n",
              "    </tr>\n",
              "  </thead>\n",
              "  <tbody>\n",
              "    <tr>\n",
              "      <th>0</th>\n",
              "      <td>9.4609</td>\n",
              "      <td>78.4463</td>\n",
              "    </tr>\n",
              "    <tr>\n",
              "      <th>1</th>\n",
              "      <td>-40.0968</td>\n",
              "      <td>-158.0918</td>\n",
              "    </tr>\n",
              "    <tr>\n",
              "      <th>2</th>\n",
              "      <td>-72.5582</td>\n",
              "      <td>-79.3374</td>\n",
              "    </tr>\n",
              "    <tr>\n",
              "      <th>3</th>\n",
              "      <td>35.7641</td>\n",
              "      <td>-64.9800</td>\n",
              "    </tr>\n",
              "    <tr>\n",
              "      <th>4</th>\n",
              "      <td>-43.0572</td>\n",
              "      <td>-177.5865</td>\n",
              "    </tr>\n",
              "    <tr>\n",
              "      <th>...</th>\n",
              "      <td>...</td>\n",
              "      <td>...</td>\n",
              "    </tr>\n",
              "    <tr>\n",
              "      <th>995</th>\n",
              "      <td>-58.9993</td>\n",
              "      <td>-167.2423</td>\n",
              "    </tr>\n",
              "    <tr>\n",
              "      <th>996</th>\n",
              "      <td>65.5227</td>\n",
              "      <td>-15.4636</td>\n",
              "    </tr>\n",
              "    <tr>\n",
              "      <th>997</th>\n",
              "      <td>-61.0750</td>\n",
              "      <td>85.0447</td>\n",
              "    </tr>\n",
              "    <tr>\n",
              "      <th>998</th>\n",
              "      <td>57.0486</td>\n",
              "      <td>-165.3553</td>\n",
              "    </tr>\n",
              "    <tr>\n",
              "      <th>999</th>\n",
              "      <td>-10.0509</td>\n",
              "      <td>23.5341</td>\n",
              "    </tr>\n",
              "  </tbody>\n",
              "</table>\n",
              "<p>1000 rows × 2 columns</p>\n",
              "</div>"
            ],
            "text/plain": [
              "    location_latitude location_longitude\n",
              "0              9.4609            78.4463\n",
              "1            -40.0968          -158.0918\n",
              "2            -72.5582           -79.3374\n",
              "3             35.7641           -64.9800\n",
              "4            -43.0572          -177.5865\n",
              "..                ...                ...\n",
              "995          -58.9993          -167.2423\n",
              "996           65.5227           -15.4636\n",
              "997          -61.0750            85.0447\n",
              "998           57.0486          -165.3553\n",
              "999          -10.0509            23.5341\n",
              "\n",
              "[1000 rows x 2 columns]"
            ]
          },
          "execution_count": 47,
          "metadata": {},
          "output_type": "execute_result"
        }
      ],
      "source": [
        "# Select the 'location_latitude' and 'location_longitude' columns from the DataFrame\n",
        "df[['location_latitude', 'location_longitude']]"
      ]
    },
    {
      "cell_type": "code",
      "execution_count": 48,
      "metadata": {
        "colab": {
          "base_uri": "https://localhost:8080/",
          "height": 424
        },
        "id": "gnySuI-1Qq4D",
        "outputId": "466bff92-20ed-4ecc-a427-a454f57e6878"
      },
      "outputs": [
        {
          "data": {
            "text/html": [
              "<div>\n",
              "<style scoped>\n",
              "    .dataframe tbody tr th:only-of-type {\n",
              "        vertical-align: middle;\n",
              "    }\n",
              "\n",
              "    .dataframe tbody tr th {\n",
              "        vertical-align: top;\n",
              "    }\n",
              "\n",
              "    .dataframe thead th {\n",
              "        text-align: right;\n",
              "    }\n",
              "</style>\n",
              "<table border=\"1\" class=\"dataframe\">\n",
              "  <thead>\n",
              "    <tr style=\"text-align: right;\">\n",
              "      <th></th>\n",
              "      <th>location_latitude</th>\n",
              "      <th>location_longitude</th>\n",
              "    </tr>\n",
              "  </thead>\n",
              "  <tbody>\n",
              "    <tr>\n",
              "      <th>0</th>\n",
              "      <td>9.4609</td>\n",
              "      <td>78.4463</td>\n",
              "    </tr>\n",
              "    <tr>\n",
              "      <th>1</th>\n",
              "      <td>-40.0968</td>\n",
              "      <td>-158.0918</td>\n",
              "    </tr>\n",
              "    <tr>\n",
              "      <th>2</th>\n",
              "      <td>-72.5582</td>\n",
              "      <td>-79.3374</td>\n",
              "    </tr>\n",
              "    <tr>\n",
              "      <th>3</th>\n",
              "      <td>35.7641</td>\n",
              "      <td>-64.9800</td>\n",
              "    </tr>\n",
              "    <tr>\n",
              "      <th>4</th>\n",
              "      <td>-43.0572</td>\n",
              "      <td>-177.5865</td>\n",
              "    </tr>\n",
              "    <tr>\n",
              "      <th>...</th>\n",
              "      <td>...</td>\n",
              "      <td>...</td>\n",
              "    </tr>\n",
              "    <tr>\n",
              "      <th>995</th>\n",
              "      <td>-58.9993</td>\n",
              "      <td>-167.2423</td>\n",
              "    </tr>\n",
              "    <tr>\n",
              "      <th>996</th>\n",
              "      <td>65.5227</td>\n",
              "      <td>-15.4636</td>\n",
              "    </tr>\n",
              "    <tr>\n",
              "      <th>997</th>\n",
              "      <td>-61.0750</td>\n",
              "      <td>85.0447</td>\n",
              "    </tr>\n",
              "    <tr>\n",
              "      <th>998</th>\n",
              "      <td>57.0486</td>\n",
              "      <td>-165.3553</td>\n",
              "    </tr>\n",
              "    <tr>\n",
              "      <th>999</th>\n",
              "      <td>-10.0509</td>\n",
              "      <td>23.5341</td>\n",
              "    </tr>\n",
              "  </tbody>\n",
              "</table>\n",
              "<p>1000 rows × 2 columns</p>\n",
              "</div>"
            ],
            "text/plain": [
              "    location_latitude location_longitude\n",
              "0              9.4609            78.4463\n",
              "1            -40.0968          -158.0918\n",
              "2            -72.5582           -79.3374\n",
              "3             35.7641           -64.9800\n",
              "4            -43.0572          -177.5865\n",
              "..                ...                ...\n",
              "995          -58.9993          -167.2423\n",
              "996           65.5227           -15.4636\n",
              "997          -61.0750            85.0447\n",
              "998           57.0486          -165.3553\n",
              "999          -10.0509            23.5341\n",
              "\n",
              "[1000 rows x 2 columns]"
            ]
          },
          "execution_count": 48,
          "metadata": {},
          "output_type": "execute_result"
        }
      ],
      "source": [
        "# Select the 'location_latitude' and 'location_longitude' columns from the DataFrame using the .get() method\n",
        "df.get(['location_latitude', 'location_longitude'])"
      ]
    },
    {
      "cell_type": "code",
      "execution_count": 49,
      "metadata": {
        "colab": {
          "base_uri": "https://localhost:8080/",
          "height": 424
        },
        "id": "uxxGrQcyQyHF",
        "outputId": "c46b25b3-cd5c-4e8a-87e7-a36512aab4a9"
      },
      "outputs": [
        {
          "data": {
            "text/html": [
              "<div>\n",
              "<style scoped>\n",
              "    .dataframe tbody tr th:only-of-type {\n",
              "        vertical-align: middle;\n",
              "    }\n",
              "\n",
              "    .dataframe tbody tr th {\n",
              "        vertical-align: top;\n",
              "    }\n",
              "\n",
              "    .dataframe thead th {\n",
              "        text-align: right;\n",
              "    }\n",
              "</style>\n",
              "<table border=\"1\" class=\"dataframe\">\n",
              "  <thead>\n",
              "    <tr style=\"text-align: right;\">\n",
              "      <th></th>\n",
              "      <th>location_latitude</th>\n",
              "      <th>location_longitude</th>\n",
              "    </tr>\n",
              "  </thead>\n",
              "  <tbody>\n",
              "    <tr>\n",
              "      <th>0</th>\n",
              "      <td>9.4609</td>\n",
              "      <td>78.4463</td>\n",
              "    </tr>\n",
              "    <tr>\n",
              "      <th>1</th>\n",
              "      <td>-40.0968</td>\n",
              "      <td>-158.0918</td>\n",
              "    </tr>\n",
              "    <tr>\n",
              "      <th>2</th>\n",
              "      <td>-72.5582</td>\n",
              "      <td>-79.3374</td>\n",
              "    </tr>\n",
              "    <tr>\n",
              "      <th>3</th>\n",
              "      <td>35.7641</td>\n",
              "      <td>-64.9800</td>\n",
              "    </tr>\n",
              "    <tr>\n",
              "      <th>4</th>\n",
              "      <td>-43.0572</td>\n",
              "      <td>-177.5865</td>\n",
              "    </tr>\n",
              "    <tr>\n",
              "      <th>...</th>\n",
              "      <td>...</td>\n",
              "      <td>...</td>\n",
              "    </tr>\n",
              "    <tr>\n",
              "      <th>995</th>\n",
              "      <td>-58.9993</td>\n",
              "      <td>-167.2423</td>\n",
              "    </tr>\n",
              "    <tr>\n",
              "      <th>996</th>\n",
              "      <td>65.5227</td>\n",
              "      <td>-15.4636</td>\n",
              "    </tr>\n",
              "    <tr>\n",
              "      <th>997</th>\n",
              "      <td>-61.0750</td>\n",
              "      <td>85.0447</td>\n",
              "    </tr>\n",
              "    <tr>\n",
              "      <th>998</th>\n",
              "      <td>57.0486</td>\n",
              "      <td>-165.3553</td>\n",
              "    </tr>\n",
              "    <tr>\n",
              "      <th>999</th>\n",
              "      <td>-10.0509</td>\n",
              "      <td>23.5341</td>\n",
              "    </tr>\n",
              "  </tbody>\n",
              "</table>\n",
              "<p>1000 rows × 2 columns</p>\n",
              "</div>"
            ],
            "text/plain": [
              "    location_latitude location_longitude\n",
              "0              9.4609            78.4463\n",
              "1            -40.0968          -158.0918\n",
              "2            -72.5582           -79.3374\n",
              "3             35.7641           -64.9800\n",
              "4            -43.0572          -177.5865\n",
              "..                ...                ...\n",
              "995          -58.9993          -167.2423\n",
              "996           65.5227           -15.4636\n",
              "997          -61.0750            85.0447\n",
              "998           57.0486          -165.3553\n",
              "999          -10.0509            23.5341\n",
              "\n",
              "[1000 rows x 2 columns]"
            ]
          },
          "execution_count": 49,
          "metadata": {},
          "output_type": "execute_result"
        }
      ],
      "source": [
        "# Select the 'location_latitude' and 'location_longitude' columns from the DataFrame using the .loc() method\n",
        "df.loc[:, ['location_latitude', 'location_longitude']]"
      ]
    },
    {
      "cell_type": "code",
      "execution_count": 50,
      "metadata": {
        "id": "JHhY70-Iwzm6"
      },
      "outputs": [],
      "source": [
        "# Convert the 'location_longitude' and 'location_latitude' columns to float type\n",
        "df['location_longitude'] = df['location_longitude'].astype(float)\n",
        "df['location_latitude'] = df['location_latitude'].astype(float)"
      ]
    },
    {
      "cell_type": "code",
      "execution_count": 51,
      "metadata": {
        "colab": {
          "base_uri": "https://localhost:8080/",
          "height": 147
        },
        "id": "ejM4v974T5dS",
        "outputId": "fc5de681-37d1-4271-d102-a618cc4eb0c8"
      },
      "outputs": [
        {
          "data": {
            "text/plain": [
              "location_latitude     float64\n",
              "location_longitude    float64\n",
              "dtype: object"
            ]
          },
          "execution_count": 51,
          "metadata": {},
          "output_type": "execute_result"
        }
      ],
      "source": [
        "# Get the data types of the 'location_latitude' and 'location_longitude' columns\n",
        "df.get(['location_latitude', 'location_longitude']).dtypes"
      ]
    },
    {
      "cell_type": "code",
      "execution_count": 52,
      "metadata": {
        "colab": {
          "base_uri": "https://localhost:8080/"
        },
        "id": "VSTEsX0dYiAa",
        "outputId": "55f71df1-b498-417f-eb02-208ec788a4cd"
      },
      "outputs": [
        {
          "data": {
            "text/plain": [
              "Index(['id', 'firstname', 'lastname', 'location_city', 'location_country',\n",
              "       'location_state', 'location_latitude', 'location_longitude',\n",
              "       'location_postcode', 'location_street_info', 'email', 'gender',\n",
              "       'login_uuid', 'login_username', 'login_password', 'phone', 'cell',\n",
              "       'date_of_birth', 'age', 'date_of_registration', 'photo_link',\n",
              "       'extract_time'],\n",
              "      dtype='object')"
            ]
          },
          "execution_count": 52,
          "metadata": {},
          "output_type": "execute_result"
        }
      ],
      "source": [
        "# Retrieve the column names of the DataFrame 'df'\n",
        "df.columns"
      ]
    },
    {
      "cell_type": "markdown",
      "metadata": {
        "id": "CLxROloNU3UT"
      },
      "source": [
        "Python has a wide range of modules for most typical tasks. While using external modules carries some risk, it is often more productive than \"reinventing the wheel\". In our dataset, we have a column called `'location_country'`, which currently contains strings that are not very useful. But, if we convert these strings into a standardized format (such as [ISO](https://www.iso.org/)), we can extract some valuable information.\n",
        "\n",
        "Regarding `'location_country'` column: we can convert the country names to [ISO2](https://www.iban.com/country-codes/) format using the [country-converter](https://pypi.org/project/country-converter/) module."
      ]
    },
    {
      "cell_type": "code",
      "execution_count": 53,
      "metadata": {
        "colab": {
          "base_uri": "https://localhost:8080/"
        },
        "id": "o4b7aqg3syU4",
        "outputId": "69802884-d05d-4c8c-ca97-fdc10df9af21"
      },
      "outputs": [
        {
          "name": "stdout",
          "output_type": "stream",
          "text": [
            "Requirement already satisfied: country_converter in /Users/yuran653/42_ds_club/.venv/lib/python3.10/site-packages (1.2)\n",
            "Requirement already satisfied: pandas>=1.0 in /Users/yuran653/42_ds_club/.venv/lib/python3.10/site-packages (from country_converter) (2.2.3)\n",
            "Requirement already satisfied: numpy>=1.22.4 in /Users/yuran653/42_ds_club/.venv/lib/python3.10/site-packages (from pandas>=1.0->country_converter) (2.1.3)\n",
            "Requirement already satisfied: python-dateutil>=2.8.2 in /Users/yuran653/42_ds_club/.venv/lib/python3.10/site-packages (from pandas>=1.0->country_converter) (2.9.0.post0)\n",
            "Requirement already satisfied: pytz>=2020.1 in /Users/yuran653/42_ds_club/.venv/lib/python3.10/site-packages (from pandas>=1.0->country_converter) (2024.2)\n",
            "Requirement already satisfied: tzdata>=2022.7 in /Users/yuran653/42_ds_club/.venv/lib/python3.10/site-packages (from pandas>=1.0->country_converter) (2024.2)\n",
            "Requirement already satisfied: six>=1.5 in /Users/yuran653/42_ds_club/.venv/lib/python3.10/site-packages (from python-dateutil>=2.8.2->pandas>=1.0->country_converter) (1.16.0)\n"
          ]
        }
      ],
      "source": [
        "# Install the 'country_converter' package\n",
        "!pip3 install country_converter"
      ]
    },
    {
      "cell_type": "code",
      "execution_count": 54,
      "metadata": {
        "id": "Qbe9Fk6jhXGh"
      },
      "outputs": [],
      "source": [
        "# Import 'country_converter' module\n",
        "import country_converter"
      ]
    },
    {
      "cell_type": "code",
      "execution_count": 55,
      "metadata": {
        "id": "2LtqVyD5UvAx"
      },
      "outputs": [],
      "source": [
        "# Define a function to convert a country name to ISO2 code\n",
        "def convert_country_code(country_name: str) -> str:\n",
        "  iso_code = country_converter.convert(country_name, to='ISO2')\n",
        "  return iso_code\n",
        "\n",
        "# Apply the convert_country_code function to the 'location_country' column\n",
        "# and create a new column 'country_iso2' with the ISO2 country codes\n",
        "df['country_iso2'] = df['location_country'].apply(convert_country_code)"
      ]
    },
    {
      "cell_type": "code",
      "execution_count": 56,
      "metadata": {
        "colab": {
          "base_uri": "https://localhost:8080/",
          "height": 774
        },
        "id": "cVjb21g7ZlFa",
        "outputId": "3fafe8bc-e391-40ea-abf3-41d36684a8c7"
      },
      "outputs": [
        {
          "data": {
            "text/plain": [
              "location_country  country_iso2\n",
              "Serbia            RS              58\n",
              "Finland           FI              57\n",
              "Norway            NO              55\n",
              "Iran              IR              54\n",
              "Spain             ES              52\n",
              "New Zealand       NZ              50\n",
              "Switzerland       CH              49\n",
              "Netherlands       NL              49\n",
              "Denmark           DK              49\n",
              "Canada            CA              48\n",
              "Australia         AU              47\n",
              "Brazil            BR              47\n",
              "Germany           DE              46\n",
              "India             IN              46\n",
              "Mexico            MX              46\n",
              "Ukraine           UA              45\n",
              "Ireland           IE              43\n",
              "United States     US              42\n",
              "United Kingdom    GB              42\n",
              "Turkey            TR              40\n",
              "France            FR              35\n",
              "Name: count, dtype: int64"
            ]
          },
          "execution_count": 56,
          "metadata": {},
          "output_type": "execute_result"
        }
      ],
      "source": [
        "# Count the occurrences of unique combinations of the values (including NaN)\n",
        "# in the 'location_country' and 'country_iso2' columns\n",
        "df.get(['location_country', 'country_iso2']).value_counts(dropna=False)"
      ]
    },
    {
      "cell_type": "code",
      "execution_count": 57,
      "metadata": {
        "colab": {
          "base_uri": "https://localhost:8080/",
          "height": 147
        },
        "id": "OpI4NfCXq4mE",
        "outputId": "27dc159d-22e5-4f23-99b1-2a73fa576196"
      },
      "outputs": [
        {
          "data": {
            "text/plain": [
              "phone    0\n",
              "cell     0\n",
              "dtype: int64"
            ]
          },
          "execution_count": 57,
          "metadata": {},
          "output_type": "execute_result"
        }
      ],
      "source": [
        "# Count the number of NaN values in the 'phone' and 'cell' columns\n",
        "df.get(['phone', 'cell']).isna().sum()"
      ]
    },
    {
      "cell_type": "code",
      "execution_count": 58,
      "metadata": {
        "colab": {
          "base_uri": "https://localhost:8080/",
          "height": 424
        },
        "id": "NBMqEHUIn8va",
        "outputId": "86a9274d-6dd3-4f35-e73c-8eba95f0eca6"
      },
      "outputs": [
        {
          "data": {
            "text/html": [
              "<div>\n",
              "<style scoped>\n",
              "    .dataframe tbody tr th:only-of-type {\n",
              "        vertical-align: middle;\n",
              "    }\n",
              "\n",
              "    .dataframe tbody tr th {\n",
              "        vertical-align: top;\n",
              "    }\n",
              "\n",
              "    .dataframe thead th {\n",
              "        text-align: right;\n",
              "    }\n",
              "</style>\n",
              "<table border=\"1\" class=\"dataframe\">\n",
              "  <thead>\n",
              "    <tr style=\"text-align: right;\">\n",
              "      <th></th>\n",
              "      <th>phone</th>\n",
              "      <th>cell</th>\n",
              "    </tr>\n",
              "  </thead>\n",
              "  <tbody>\n",
              "    <tr>\n",
              "      <th>0</th>\n",
              "      <td>7911969693</td>\n",
              "      <td>9779964598</td>\n",
              "    </tr>\n",
              "    <tr>\n",
              "      <th>1</th>\n",
              "      <td>15959079</td>\n",
              "      <td>58165315</td>\n",
              "    </tr>\n",
              "    <tr>\n",
              "      <th>2</th>\n",
              "      <td>K09 Q93-5986</td>\n",
              "      <td>K17 N11-3266</td>\n",
              "    </tr>\n",
              "    <tr>\n",
              "      <th>3</th>\n",
              "      <td>(0732) 928722</td>\n",
              "      <td>(06) 29729945</td>\n",
              "    </tr>\n",
              "    <tr>\n",
              "      <th>4</th>\n",
              "      <td>21078902</td>\n",
              "      <td>60853923</td>\n",
              "    </tr>\n",
              "    <tr>\n",
              "      <th>...</th>\n",
              "      <td>...</td>\n",
              "      <td>...</td>\n",
              "    </tr>\n",
              "    <tr>\n",
              "      <th>995</th>\n",
              "      <td>075 029 67 42</td>\n",
              "      <td>077 798 23 04</td>\n",
              "    </tr>\n",
              "    <tr>\n",
              "      <th>996</th>\n",
              "      <td>(613)-797-2110</td>\n",
              "      <td>(361)-872-2189</td>\n",
              "    </tr>\n",
              "    <tr>\n",
              "      <th>997</th>\n",
              "      <td>077 365 68 44</td>\n",
              "      <td>078 881 31 38</td>\n",
              "    </tr>\n",
              "    <tr>\n",
              "      <th>998</th>\n",
              "      <td>020-4094-814</td>\n",
              "      <td>065-9633-612</td>\n",
              "    </tr>\n",
              "    <tr>\n",
              "      <th>999</th>\n",
              "      <td>017687 53378</td>\n",
              "      <td>07252 462420</td>\n",
              "    </tr>\n",
              "  </tbody>\n",
              "</table>\n",
              "<p>1000 rows × 2 columns</p>\n",
              "</div>"
            ],
            "text/plain": [
              "              phone            cell\n",
              "0        7911969693      9779964598\n",
              "1          15959079        58165315\n",
              "2      K09 Q93-5986    K17 N11-3266\n",
              "3     (0732) 928722   (06) 29729945\n",
              "4          21078902        60853923\n",
              "..              ...             ...\n",
              "995   075 029 67 42   077 798 23 04\n",
              "996  (613)-797-2110  (361)-872-2189\n",
              "997   077 365 68 44   078 881 31 38\n",
              "998    020-4094-814    065-9633-612\n",
              "999    017687 53378    07252 462420\n",
              "\n",
              "[1000 rows x 2 columns]"
            ]
          },
          "execution_count": 58,
          "metadata": {},
          "output_type": "execute_result"
        }
      ],
      "source": [
        "# Select the 'phone' and 'cell' columns\n",
        "df.get(['phone', 'cell'])"
      ]
    },
    {
      "cell_type": "markdown",
      "metadata": {
        "id": "WJbFC9kbmd8F"
      },
      "source": [
        "The `'phone'` and `'cell'` columns do not contain missing (`NaN`) values, but the phone number formats differ, making the values unclear. A good approach is [to standardize all phone numbers](https://medium.com/@marc.bolle/fetching-and-formatting-phone-numbers-in-python-794ae16ab198) according to the [E.164](https://en.wikipedia.org/wiki/E.164) format using the [phonenumbers module](https://github.com/daviddrysdale/python-phonenumbers/tree/dev) [(documentation available)](https://daviddrysdale.github.io/python-phonenumbers/#-is_valid_number)."
      ]
    },
    {
      "cell_type": "code",
      "execution_count": 59,
      "metadata": {
        "colab": {
          "base_uri": "https://localhost:8080/"
        },
        "id": "4_aqPQv4m3HI",
        "outputId": "64876ea2-8f0d-4a91-bc26-404460bc8287"
      },
      "outputs": [
        {
          "name": "stdout",
          "output_type": "stream",
          "text": [
            "Requirement already satisfied: phonenumbers in /Users/yuran653/42_ds_club/.venv/lib/python3.10/site-packages (8.13.49)\n"
          ]
        }
      ],
      "source": [
        "!pip3 install phonenumbers"
      ]
    },
    {
      "cell_type": "code",
      "execution_count": 60,
      "metadata": {
        "id": "tLLP5OLoik4I"
      },
      "outputs": [],
      "source": [
        "import phonenumbers as ph\n",
        "from phonenumbers.phonenumberutil import NumberParseException"
      ]
    },
    {
      "cell_type": "markdown",
      "metadata": {
        "id": "ehcIFDT4p1oy"
      },
      "source": [
        "The relevant methods of the module do not correctly convert US and Canadian numbers that contain letters and do not fully parse all `'()'`, and `'-'` characters. Here is my simple function to handle this:"
      ]
    },
    {
      "cell_type": "code",
      "execution_count": 61,
      "metadata": {
        "id": "JWsvd-cQqt00"
      },
      "outputs": [],
      "source": [
        "# Define a function to convert alpha characters to their corresponding digits\n",
        "def convert_alpha(phone_number : str) -> str:\n",
        "  # Mapping of alpha characters to their respective digits on a phone keypad\n",
        "  letters_to_digit = {\n",
        "      'A': '2', 'B': '2', 'C': '2',\n",
        "      'D': '3', 'E': '3', 'F': '3',\n",
        "      'G': '4', 'H': '4', 'I': '4',\n",
        "      'J': '5', 'K': '5', 'L': '5',\n",
        "      'M': '6', 'N': '6', 'O': '6',\n",
        "      'P': '7', 'Q': '7', 'R': '7', 'S': '7',\n",
        "      'T': '8', 'U': '8', 'V': '8',\n",
        "      'W': '9', 'X': '9', 'Y': '9', 'Z': '9'\n",
        "  }\n",
        "\n",
        "  # Skips any character that is not a number or in the map\n",
        "  # Convert the character to its corresponding digit if it is in the map\n",
        "  return ''.join(letters_to_digit.get(c, c) for c in phone_number.upper()\n",
        "                   if letters_to_digit.get(c, c).isdigit())"
      ]
    },
    {
      "cell_type": "code",
      "execution_count": 62,
      "metadata": {
        "id": "Oqa94ycEoHK-"
      },
      "outputs": [],
      "source": [
        "# Define a function to normalize a phone number\n",
        "def normalize_number(number: str, cc_iso2: str) -> str:\n",
        "  try:\n",
        "    # Parse the phone number after converting alphabetic characters using the ISO2 code\n",
        "    number_obj = ph.parse(convert_alpha(number), region=cc_iso2)\n",
        "  except NumberParseException as e:\n",
        "    return 'number_not_parsed'\n",
        "  # Check if the parsed number is valid\n",
        "    if not ph.is_valid_number(number_obj):\n",
        "      return 'number_not_valid'\n",
        "  # Format the valid number to E.164 format\n",
        "  normalized = ph.format_number(number_obj, ph.PhoneNumberFormat.E164)\n",
        "  return normalized"
      ]
    },
    {
      "cell_type": "markdown",
      "metadata": {
        "id": "HqhTsgwovjdP"
      },
      "source": [
        "By the way, without ISO2 code the `'parse'` method does not work"
      ]
    },
    {
      "cell_type": "code",
      "execution_count": 63,
      "metadata": {
        "id": "lkg1OnvxsBAu"
      },
      "outputs": [],
      "source": [
        "# Normalize the 'phone' and 'cell' columns for each row\n",
        "# Store the results in a new columns 'normalized_phone' and 'normalized_cell'\n",
        "df['normalized_phone'] = df.apply(lambda row: normalize_number(row['phone'], row['country_iso2']), axis=1)\n",
        "df['normalized_cell'] = df.apply(lambda row: normalize_number(row['cell'], row['country_iso2']), axis=1)"
      ]
    },
    {
      "cell_type": "code",
      "execution_count": 64,
      "metadata": {
        "colab": {
          "base_uri": "https://localhost:8080/",
          "height": 490
        },
        "id": "A9hcHNEsfArb",
        "outputId": "cf379b82-a8d4-4156-b85d-e16954da9156"
      },
      "outputs": [
        {
          "data": {
            "text/plain": [
              "normalized_phone \n",
              "+989258755705        9\n",
              "number_not_parsed    3\n",
              "+918182760085        2\n",
              "+61655379809         2\n",
              "+41754146169         2\n",
              "                    ..\n",
              "+989252589909        1\n",
              "+986172218779        1\n",
              "+989435415309        1\n",
              "+989960537481        1\n",
              "+986359799009        1\n",
              "Name: count, Length: 985, dtype: int64"
            ]
          },
          "execution_count": 64,
          "metadata": {},
          "output_type": "execute_result"
        }
      ],
      "source": [
        "# Count the occurrences of unique value in the 'normalized_phone', including NaN's\n",
        "df.get(['normalized_phone']).value_counts(dropna=False)"
      ]
    },
    {
      "cell_type": "code",
      "execution_count": 65,
      "metadata": {
        "colab": {
          "base_uri": "https://localhost:8080/",
          "height": 490
        },
        "id": "w0OqORemlO_e",
        "outputId": "06b17da1-7264-4d39-ae73-86507b5a03dd"
      },
      "outputs": [
        {
          "data": {
            "text/plain": [
              "normalized_cell\n",
              "+989428064041      9\n",
              "+917220660005      2\n",
              "+61461285562       2\n",
              "+41768995039       2\n",
              "+353819933462      2\n",
              "                  ..\n",
              "+989888908171      1\n",
              "+989909988924      1\n",
              "+989926680012      1\n",
              "+989935840571      1\n",
              "+12929896504       1\n",
              "Name: count, Length: 987, dtype: int64"
            ]
          },
          "execution_count": 65,
          "metadata": {},
          "output_type": "execute_result"
        }
      ],
      "source": [
        "# Count the occurrences of unique value in the 'normalized_cell', including NaN's\n",
        "df.get(['normalized_cell']).value_counts(dropna=False)"
      ]
    },
    {
      "cell_type": "code",
      "execution_count": 66,
      "metadata": {
        "id": "2W_6eUh8hjat"
      },
      "outputs": [],
      "source": [
        "from datetime import datetime"
      ]
    },
    {
      "cell_type": "markdown",
      "metadata": {
        "id": "j8GSa7NMy3bN"
      },
      "source": [
        "[Python Datetime](https://www.w3schools.com/python/python_datetime.asp)\n",
        "\n",
        "[pandas.to_datetime](https://pandas.pydata.org/docs/reference/api/pandas.to_datetime.html)"
      ]
    },
    {
      "cell_type": "code",
      "execution_count": 67,
      "metadata": {
        "id": "B-095zDuwJgt"
      },
      "outputs": [],
      "source": [
        "# Convert data-related columns to datetime object\n",
        "df[\"date_of_registration\"] = pd.to_datetime(df[\"date_of_registration\"])\n",
        "df[\"date_of_birth\"] = pd.to_datetime(df[\"date_of_birth\"])\n",
        "df[\"extract_time\"] = pd.to_datetime(df[\"extract_time\"])"
      ]
    },
    {
      "cell_type": "code",
      "execution_count": 68,
      "metadata": {
        "id": "jK4sHDCNwjgf"
      },
      "outputs": [],
      "source": [
        "# Extract the year, month, and day from 'date_of_registration' and create separate columns\n",
        "df[\"year_of_registration\"] = df[\"date_of_registration\"].dt.year\n",
        "df[\"month_of_registration\"] = df[\"date_of_registration\"].dt.month\n",
        "df[\"day_of_registration\"] = df[\"date_of_registration\"].dt.day"
      ]
    },
    {
      "cell_type": "code",
      "execution_count": 69,
      "metadata": {
        "id": "kqynJkNB0Lh1"
      },
      "outputs": [],
      "source": [
        "# Standardize the 'gender' column by replacing \"male\" with \"M\" and \"female\" with \"F\"\n",
        "df[\"gender\"] = df[\"gender\"].replace({\"male\": \"M\", \"female\": \"F\"})"
      ]
    },
    {
      "cell_type": "code",
      "execution_count": 70,
      "metadata": {
        "id": "riUlWowH0RPB"
      },
      "outputs": [],
      "source": [
        "# Store in new columns the lenght's values of the 'login_password' and 'login_username'\n",
        "df[\"password_length\"] = df[\"login_password\"].apply(len)\n",
        "df[\"login_length\"] = df[\"login_username\"].apply(len)\n"
      ]
    },
    {
      "cell_type": "markdown",
      "metadata": {
        "id": "xhnUIr6m1PW4"
      },
      "source": [
        "It is strongly reccomended to set time stamp for tracking data modifications:"
      ]
    },
    {
      "cell_type": "code",
      "execution_count": 71,
      "metadata": {
        "id": "WrYyFuuf0yyR"
      },
      "outputs": [],
      "source": [
        "# Add the current timestamp to the new 'transform_timestamp' column\n",
        "df[\"transform_timestamp\"] = datetime.now()"
      ]
    },
    {
      "cell_type": "markdown",
      "metadata": {
        "id": "SMy5YcGo2BGg"
      },
      "source": [
        "Here we stop. But even in this simple and plain dataset, there are plenty of opportunities for verifying and converting data, as well as creating new features that can provide deeper insights."
      ]
    },
    {
      "cell_type": "code",
      "execution_count": 72,
      "metadata": {
        "id": "1aeDGQpi37QC"
      },
      "outputs": [],
      "source": [
        "output_path = 'batch1000users.csv'\n",
        "df.to_csv(output_path)"
      ]
    },
    {
      "cell_type": "code",
      "execution_count": 73,
      "metadata": {},
      "outputs": [
        {
          "name": "stdout",
          "output_type": "stream",
          "text": [
            "<class 'pandas.core.frame.DataFrame'>\n",
            "RangeIndex: 1000 entries, 0 to 999\n",
            "Data columns (total 31 columns):\n",
            " #   Column                 Non-Null Count  Dtype              \n",
            "---  ------                 --------------  -----              \n",
            " 0   id                     1000 non-null   object             \n",
            " 1   firstname              1000 non-null   object             \n",
            " 2   lastname               1000 non-null   object             \n",
            " 3   location_city          1000 non-null   object             \n",
            " 4   location_country       1000 non-null   object             \n",
            " 5   location_state         1000 non-null   object             \n",
            " 6   location_latitude      1000 non-null   float64            \n",
            " 7   location_longitude     1000 non-null   float64            \n",
            " 8   location_postcode      1000 non-null   object             \n",
            " 9   location_street_info   1000 non-null   object             \n",
            " 10  email                  1000 non-null   object             \n",
            " 11  gender                 1000 non-null   object             \n",
            " 12  login_uuid             1000 non-null   object             \n",
            " 13  login_username         1000 non-null   object             \n",
            " 14  login_password         1000 non-null   object             \n",
            " 15  phone                  1000 non-null   object             \n",
            " 16  cell                   1000 non-null   object             \n",
            " 17  date_of_birth          1000 non-null   datetime64[ns, UTC]\n",
            " 18  age                    1000 non-null   int64              \n",
            " 19  date_of_registration   1000 non-null   datetime64[ns, UTC]\n",
            " 20  photo_link             1000 non-null   object             \n",
            " 21  extract_time           1000 non-null   datetime64[ns]     \n",
            " 22  country_iso2           1000 non-null   object             \n",
            " 23  normalized_phone       1000 non-null   object             \n",
            " 24  normalized_cell        1000 non-null   object             \n",
            " 25  year_of_registration   1000 non-null   int32              \n",
            " 26  month_of_registration  1000 non-null   int32              \n",
            " 27  day_of_registration    1000 non-null   int32              \n",
            " 28  password_length        1000 non-null   int64              \n",
            " 29  login_length           1000 non-null   int64              \n",
            " 30  transform_timestamp    1000 non-null   datetime64[us]     \n",
            "dtypes: datetime64[ns, UTC](2), datetime64[ns](1), datetime64[us](1), float64(2), int32(3), int64(3), object(19)\n",
            "memory usage: 230.6+ KB\n"
          ]
        }
      ],
      "source": [
        "df.info()"
      ]
    },
    {
      "cell_type": "code",
      "execution_count": null,
      "metadata": {},
      "outputs": [],
      "source": []
    }
  ],
  "metadata": {
    "colab": {
      "provenance": []
    },
    "kernelspec": {
      "display_name": ".venv",
      "language": "python",
      "name": "python3"
    },
    "language_info": {
      "codemirror_mode": {
        "name": "ipython",
        "version": 3
      },
      "file_extension": ".py",
      "mimetype": "text/x-python",
      "name": "python",
      "nbconvert_exporter": "python",
      "pygments_lexer": "ipython3",
      "version": "3.10.7"
    }
  },
  "nbformat": 4,
  "nbformat_minor": 0
}
