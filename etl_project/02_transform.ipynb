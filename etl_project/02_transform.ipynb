{
  "cells": [
    {
      "cell_type": "markdown",
      "metadata": {
        "id": "Nc-AyQg1ZDZv"
      },
      "source": [
        "# Transform of ETL (Extract-Transform-Load) pipeline\n",
        "[Link to GitHub](https://github.com/stanislavlia/datascience_club_projects/blob/main/project1_etl_pipeline/transform.py)"
      ]
    },
    {
      "cell_type": "code",
      "execution_count": 112,
      "metadata": {},
      "outputs": [
        {
          "name": "stdout",
          "output_type": "stream",
          "text": [
            "Requirement already satisfied: pandas in /Users/yuran653/42_ds_club/.venv/lib/python3.10/site-packages (2.2.3)\n",
            "Requirement already satisfied: numpy>=1.22.4 in /Users/yuran653/42_ds_club/.venv/lib/python3.10/site-packages (from pandas) (2.1.3)\n",
            "Requirement already satisfied: python-dateutil>=2.8.2 in /Users/yuran653/42_ds_club/.venv/lib/python3.10/site-packages (from pandas) (2.9.0.post0)\n",
            "Requirement already satisfied: pytz>=2020.1 in /Users/yuran653/42_ds_club/.venv/lib/python3.10/site-packages (from pandas) (2024.2)\n",
            "Requirement already satisfied: tzdata>=2022.7 in /Users/yuran653/42_ds_club/.venv/lib/python3.10/site-packages (from pandas) (2024.2)\n",
            "Requirement already satisfied: six>=1.5 in /Users/yuran653/42_ds_club/.venv/lib/python3.10/site-packages (from python-dateutil>=2.8.2->pandas) (1.16.0)\n"
          ]
        }
      ],
      "source": [
        "!pip3 install pandas"
      ]
    },
    {
      "cell_type": "code",
      "execution_count": 113,
      "metadata": {
        "id": "SKVteEMLf9tR"
      },
      "outputs": [],
      "source": [
        "# Import Pandas and json modules\n",
        "import pandas as pd\n",
        "import json"
      ]
    },
    {
      "cell_type": "code",
      "execution_count": 114,
      "metadata": {
        "id": "5pDCmVF8YgX5"
      },
      "outputs": [],
      "source": [
        "# Define the file path for the batch of users (extracted in a previous phase) in JSON format\n",
        "# Note: Update the path as needed to point to the correct location of your batch file\n",
        "# BATCH_PATH = '/content/drive/MyDrive/42_DS_Club/01_ETL_pipeline/batch1000users.json'\n",
        "BATCH_PATH = 'batch1000users.json'"
      ]
    },
    {
      "cell_type": "code",
      "execution_count": 115,
      "metadata": {
        "id": "aKTTHw9FtFyx"
      },
      "outputs": [],
      "source": [
        "# Open the JSON file at the specified BATCH_PATH in read mode\n",
        "with open(BATCH_PATH, \"r\") as file:\n",
        "    # Load the JSON content from the file into 'batch_json' dictionary\n",
        "    batch_json = json.load(file)"
      ]
    },
    {
      "cell_type": "code",
      "execution_count": 116,
      "metadata": {
        "colab": {
          "base_uri": "https://localhost:8080/"
        },
        "id": "0wlFO9LQtksl",
        "outputId": "6f3ad208-254a-4188-8212-08adb1db9530"
      },
      "outputs": [
        {
          "data": {
            "text/plain": [
              "{'id': ' None',\n",
              " 'firstname': 'Ceyhan',\n",
              " 'lastname': 'Poçan',\n",
              " 'location_city': 'Samsun',\n",
              " 'location_country': 'Turkey',\n",
              " 'location_state': 'Tokat',\n",
              " 'location_latitude': '69.5728',\n",
              " 'location_longitude': '114.0988',\n",
              " 'location_postcode': 81130,\n",
              " 'location_street_info': 'Maçka Cd, 8777',\n",
              " 'email': 'ceyhan.pocan@example.com',\n",
              " 'gender': 'female',\n",
              " 'login_uuid': '3b41ebab-c0cd-4895-903c-0429fb854724',\n",
              " 'login_username': 'smallbird327',\n",
              " 'login_password': 'camilla',\n",
              " 'phone': '(753)-241-3063',\n",
              " 'cell': '(577)-404-8976',\n",
              " 'date_of_birth': '1954-10-31T21:25:45.113Z',\n",
              " 'age': 70,\n",
              " 'date_of_registration': '2013-08-10T23:30:47.660Z',\n",
              " 'photo_link': 'https://randomuser.me/api/portraits/women/96.jpg',\n",
              " 'extract_time': '2024-11-06 19:28:53.390692'}"
            ]
          },
          "execution_count": 116,
          "metadata": {},
          "output_type": "execute_result"
        }
      ],
      "source": [
        "from random import randint\n",
        "\n",
        "# Select a random user from the 'users' list in 'batch_json'\n",
        "batch_json['users'][randint(0, len(batch_json['users']) - 1)]"
      ]
    },
    {
      "cell_type": "markdown",
      "metadata": {
        "id": "ISoT216rcgIW"
      },
      "source": [
        "**[Pandas](https://pandas.pydata.org/)**\n",
        "\n",
        "Pandas is a powerful, open-source data analysis and manipulation library for Python. It’s widely used in data science, finance, statistics, and any field where data analysis is essential. With Pandas, you can effortlessly work with large datasets, transforming raw data into clean, organized formats.\n",
        "\n",
        "The primary data structure in Padas is **[DataFrame](https://pandas.pydata.org/docs/reference/api/pandas.DataFrame.html)**. It is two-dimensional, size-mutable, potentially heterogeneous tabular data.\n",
        "\n",
        "For an easy introduction to Pandas, it’s **highly** recommended to complete a **[Pandas course on Kaggle](https://www.kaggle.com/learn/pandas)**"
      ]
    },
    {
      "cell_type": "code",
      "execution_count": 117,
      "metadata": {
        "id": "tzW31150vZyh"
      },
      "outputs": [],
      "source": [
        "# Create a DataFrame from the 'users' data in the dictionary 'batch_json'\n",
        "df = pd.DataFrame(batch_json[\"users\"])"
      ]
    },
    {
      "cell_type": "code",
      "execution_count": 118,
      "metadata": {
        "colab": {
          "base_uri": "https://localhost:8080/",
          "height": 349
        },
        "id": "eDu8xLVdvz-y",
        "outputId": "be92aacc-eafc-4ddb-f525-a4a143c3922e"
      },
      "outputs": [
        {
          "data": {
            "text/html": [
              "<div>\n",
              "<style scoped>\n",
              "    .dataframe tbody tr th:only-of-type {\n",
              "        vertical-align: middle;\n",
              "    }\n",
              "\n",
              "    .dataframe tbody tr th {\n",
              "        vertical-align: top;\n",
              "    }\n",
              "\n",
              "    .dataframe thead th {\n",
              "        text-align: right;\n",
              "    }\n",
              "</style>\n",
              "<table border=\"1\" class=\"dataframe\">\n",
              "  <thead>\n",
              "    <tr style=\"text-align: right;\">\n",
              "      <th></th>\n",
              "      <th>id</th>\n",
              "      <th>firstname</th>\n",
              "      <th>lastname</th>\n",
              "      <th>location_city</th>\n",
              "      <th>location_country</th>\n",
              "      <th>location_state</th>\n",
              "      <th>location_latitude</th>\n",
              "      <th>location_longitude</th>\n",
              "      <th>location_postcode</th>\n",
              "      <th>location_street_info</th>\n",
              "      <th>...</th>\n",
              "      <th>login_uuid</th>\n",
              "      <th>login_username</th>\n",
              "      <th>login_password</th>\n",
              "      <th>phone</th>\n",
              "      <th>cell</th>\n",
              "      <th>date_of_birth</th>\n",
              "      <th>age</th>\n",
              "      <th>date_of_registration</th>\n",
              "      <th>photo_link</th>\n",
              "      <th>extract_time</th>\n",
              "    </tr>\n",
              "  </thead>\n",
              "  <tbody>\n",
              "    <tr>\n",
              "      <th>0</th>\n",
              "      <td>None</td>\n",
              "      <td>Tyler</td>\n",
              "      <td>Green</td>\n",
              "      <td>Blenheim</td>\n",
              "      <td>New Zealand</td>\n",
              "      <td>Auckland</td>\n",
              "      <td>52.0345</td>\n",
              "      <td>-87.3133</td>\n",
              "      <td>61785</td>\n",
              "      <td>Harewood Road, 1254</td>\n",
              "      <td>...</td>\n",
              "      <td>f3225009-aff7-40c3-bbf1-a0691aadda5f</td>\n",
              "      <td>whitecat703</td>\n",
              "      <td>quest1</td>\n",
              "      <td>(066)-886-3947</td>\n",
              "      <td>(977)-396-9271</td>\n",
              "      <td>1947-11-19T22:56:37.545Z</td>\n",
              "      <td>76</td>\n",
              "      <td>2009-11-05T21:18:51.984Z</td>\n",
              "      <td>https://randomuser.me/api/portraits/men/57.jpg</td>\n",
              "      <td>2024-11-06 19:25:37.723380</td>\n",
              "    </tr>\n",
              "    <tr>\n",
              "      <th>1</th>\n",
              "      <td>AVS 756.6533.3915.87</td>\n",
              "      <td>Rocco</td>\n",
              "      <td>Le Gall</td>\n",
              "      <td>Murgenthal</td>\n",
              "      <td>Switzerland</td>\n",
              "      <td>Graubünden</td>\n",
              "      <td>-57.6771</td>\n",
              "      <td>-86.0432</td>\n",
              "      <td>3461</td>\n",
              "      <td>Rue de la Mairie, 568</td>\n",
              "      <td>...</td>\n",
              "      <td>d740a95c-bbc3-4905-a9d0-a499471bcf79</td>\n",
              "      <td>ticklishbear663</td>\n",
              "      <td>madrid</td>\n",
              "      <td>077 077 94 68</td>\n",
              "      <td>075 506 56 98</td>\n",
              "      <td>1961-08-25T15:42:41.778Z</td>\n",
              "      <td>63</td>\n",
              "      <td>2014-03-02T00:10:50.552Z</td>\n",
              "      <td>https://randomuser.me/api/portraits/men/61.jpg</td>\n",
              "      <td>2024-11-06 19:25:38.258638</td>\n",
              "    </tr>\n",
              "    <tr>\n",
              "      <th>2</th>\n",
              "      <td>None</td>\n",
              "      <td>Adem</td>\n",
              "      <td>Keseroğlu</td>\n",
              "      <td>Adıyaman</td>\n",
              "      <td>Turkey</td>\n",
              "      <td>Konya</td>\n",
              "      <td>65.3337</td>\n",
              "      <td>-51.0028</td>\n",
              "      <td>54131</td>\n",
              "      <td>Fatih Sultan Mehmet Cd, 6502</td>\n",
              "      <td>...</td>\n",
              "      <td>07cac087-535a-4cbb-9e1a-9212470c1933</td>\n",
              "      <td>beautifulostrich658</td>\n",
              "      <td>thing</td>\n",
              "      <td>(240)-806-2105</td>\n",
              "      <td>(427)-505-7703</td>\n",
              "      <td>1953-01-11T22:43:11.092Z</td>\n",
              "      <td>71</td>\n",
              "      <td>2003-09-26T14:13:38.572Z</td>\n",
              "      <td>https://randomuser.me/api/portraits/men/17.jpg</td>\n",
              "      <td>2024-11-06 19:25:38.731692</td>\n",
              "    </tr>\n",
              "  </tbody>\n",
              "</table>\n",
              "<p>3 rows × 22 columns</p>\n",
              "</div>"
            ],
            "text/plain": [
              "                     id firstname   lastname location_city location_country  \\\n",
              "0                  None     Tyler      Green      Blenheim      New Zealand   \n",
              "1  AVS 756.6533.3915.87     Rocco    Le Gall    Murgenthal      Switzerland   \n",
              "2                  None      Adem  Keseroğlu      Adıyaman           Turkey   \n",
              "\n",
              "  location_state location_latitude location_longitude location_postcode  \\\n",
              "0       Auckland           52.0345           -87.3133             61785   \n",
              "1     Graubünden          -57.6771           -86.0432              3461   \n",
              "2          Konya           65.3337           -51.0028             54131   \n",
              "\n",
              "           location_street_info  ...                            login_uuid  \\\n",
              "0           Harewood Road, 1254  ...  f3225009-aff7-40c3-bbf1-a0691aadda5f   \n",
              "1         Rue de la Mairie, 568  ...  d740a95c-bbc3-4905-a9d0-a499471bcf79   \n",
              "2  Fatih Sultan Mehmet Cd, 6502  ...  07cac087-535a-4cbb-9e1a-9212470c1933   \n",
              "\n",
              "        login_username login_password           phone            cell  \\\n",
              "0          whitecat703         quest1  (066)-886-3947  (977)-396-9271   \n",
              "1      ticklishbear663         madrid   077 077 94 68   075 506 56 98   \n",
              "2  beautifulostrich658          thing  (240)-806-2105  (427)-505-7703   \n",
              "\n",
              "              date_of_birth age      date_of_registration  \\\n",
              "0  1947-11-19T22:56:37.545Z  76  2009-11-05T21:18:51.984Z   \n",
              "1  1961-08-25T15:42:41.778Z  63  2014-03-02T00:10:50.552Z   \n",
              "2  1953-01-11T22:43:11.092Z  71  2003-09-26T14:13:38.572Z   \n",
              "\n",
              "                                       photo_link                extract_time  \n",
              "0  https://randomuser.me/api/portraits/men/57.jpg  2024-11-06 19:25:37.723380  \n",
              "1  https://randomuser.me/api/portraits/men/61.jpg  2024-11-06 19:25:38.258638  \n",
              "2  https://randomuser.me/api/portraits/men/17.jpg  2024-11-06 19:25:38.731692  \n",
              "\n",
              "[3 rows x 22 columns]"
            ]
          },
          "execution_count": 118,
          "metadata": {},
          "output_type": "execute_result"
        }
      ],
      "source": [
        "# Display the first 3 rows of the DataFrame\n",
        "df.head(3)"
      ]
    },
    {
      "cell_type": "code",
      "execution_count": 119,
      "metadata": {
        "colab": {
          "base_uri": "https://localhost:8080/",
          "height": 516
        },
        "id": "x4kZyKLdv4xH",
        "outputId": "9aa46c04-e930-4373-b11c-ebd1bcbe44f6"
      },
      "outputs": [
        {
          "data": {
            "text/html": [
              "<div>\n",
              "<style scoped>\n",
              "    .dataframe tbody tr th:only-of-type {\n",
              "        vertical-align: middle;\n",
              "    }\n",
              "\n",
              "    .dataframe tbody tr th {\n",
              "        vertical-align: top;\n",
              "    }\n",
              "\n",
              "    .dataframe thead th {\n",
              "        text-align: right;\n",
              "    }\n",
              "</style>\n",
              "<table border=\"1\" class=\"dataframe\">\n",
              "  <thead>\n",
              "    <tr style=\"text-align: right;\">\n",
              "      <th></th>\n",
              "      <th>id</th>\n",
              "      <th>firstname</th>\n",
              "      <th>lastname</th>\n",
              "      <th>location_city</th>\n",
              "      <th>location_country</th>\n",
              "      <th>location_state</th>\n",
              "      <th>location_latitude</th>\n",
              "      <th>location_longitude</th>\n",
              "      <th>location_postcode</th>\n",
              "      <th>location_street_info</th>\n",
              "      <th>...</th>\n",
              "      <th>login_uuid</th>\n",
              "      <th>login_username</th>\n",
              "      <th>login_password</th>\n",
              "      <th>phone</th>\n",
              "      <th>cell</th>\n",
              "      <th>date_of_birth</th>\n",
              "      <th>age</th>\n",
              "      <th>date_of_registration</th>\n",
              "      <th>photo_link</th>\n",
              "      <th>extract_time</th>\n",
              "    </tr>\n",
              "  </thead>\n",
              "  <tbody>\n",
              "    <tr>\n",
              "      <th>20</th>\n",
              "      <td>None</td>\n",
              "      <td>بیتا</td>\n",
              "      <td>رضایی</td>\n",
              "      <td>آبادان</td>\n",
              "      <td>Iran</td>\n",
              "      <td>قم</td>\n",
              "      <td>21.0535</td>\n",
              "      <td>153.1912</td>\n",
              "      <td>72440</td>\n",
              "      <td>شهید کبیری طامه, 7328</td>\n",
              "      <td>...</td>\n",
              "      <td>43a3b808-b303-455a-bd7e-fa37281c3c42</td>\n",
              "      <td>whitezebra680</td>\n",
              "      <td>joanne</td>\n",
              "      <td>050-82731538</td>\n",
              "      <td>0902-552-6118</td>\n",
              "      <td>1956-07-26T00:22:39.576Z</td>\n",
              "      <td>68</td>\n",
              "      <td>2011-07-24T22:14:40.045Z</td>\n",
              "      <td>https://randomuser.me/api/portraits/women/18.jpg</td>\n",
              "      <td>2024-11-06 19:25:48.867410</td>\n",
              "    </tr>\n",
              "    <tr>\n",
              "      <th>988</th>\n",
              "      <td>BSN 67293686</td>\n",
              "      <td>Buşra</td>\n",
              "      <td>Swagerman</td>\n",
              "      <td>Gendt</td>\n",
              "      <td>Netherlands</td>\n",
              "      <td>Friesland</td>\n",
              "      <td>31.2510</td>\n",
              "      <td>78.2662</td>\n",
              "      <td>5342 NT</td>\n",
              "      <td>Dammaat, 6648</td>\n",
              "      <td>...</td>\n",
              "      <td>1ae8a543-4293-4900-817c-a8aae1e01968</td>\n",
              "      <td>smallmouse553</td>\n",
              "      <td>jessica1</td>\n",
              "      <td>(008) 0054528</td>\n",
              "      <td>(06) 17574400</td>\n",
              "      <td>1983-04-01T23:26:57.747Z</td>\n",
              "      <td>41</td>\n",
              "      <td>2015-11-13T22:52:18.184Z</td>\n",
              "      <td>https://randomuser.me/api/portraits/women/89.jpg</td>\n",
              "      <td>2024-11-06 19:35:35.427764</td>\n",
              "    </tr>\n",
              "    <tr>\n",
              "      <th>930</th>\n",
              "      <td>INSEE 2900044111510 65</td>\n",
              "      <td>Gabrielle</td>\n",
              "      <td>Nguyen</td>\n",
              "      <td>Caen</td>\n",
              "      <td>France</td>\n",
              "      <td>Paris</td>\n",
              "      <td>-19.6525</td>\n",
              "      <td>14.3837</td>\n",
              "      <td>30259</td>\n",
              "      <td>Rue Gasparin, 3657</td>\n",
              "      <td>...</td>\n",
              "      <td>6bbf5e3c-3642-4ff3-becb-27cb2a3d93c2</td>\n",
              "      <td>sadcat541</td>\n",
              "      <td>rockies</td>\n",
              "      <td>04-28-52-81-26</td>\n",
              "      <td>06-10-81-07-85</td>\n",
              "      <td>1990-01-30T16:16:50.316Z</td>\n",
              "      <td>34</td>\n",
              "      <td>2016-03-19T23:40:19.053Z</td>\n",
              "      <td>https://randomuser.me/api/portraits/women/14.jpg</td>\n",
              "      <td>2024-11-06 19:34:57.916572</td>\n",
              "    </tr>\n",
              "    <tr>\n",
              "      <th>880</th>\n",
              "      <td>CPF 621.543.459-57</td>\n",
              "      <td>Marivana</td>\n",
              "      <td>Alves</td>\n",
              "      <td>Paranaguá</td>\n",
              "      <td>Brazil</td>\n",
              "      <td>São Paulo</td>\n",
              "      <td>-77.2015</td>\n",
              "      <td>142.3469</td>\n",
              "      <td>84585</td>\n",
              "      <td>Rua Primeiro de Maio , 1147</td>\n",
              "      <td>...</td>\n",
              "      <td>a0a4189f-d142-43e8-a1d6-5ad17f8c05f1</td>\n",
              "      <td>happyfrog668</td>\n",
              "      <td>splurge</td>\n",
              "      <td>(95) 7039-0899</td>\n",
              "      <td>(99) 5207-5201</td>\n",
              "      <td>1992-01-23T06:29:55.909Z</td>\n",
              "      <td>32</td>\n",
              "      <td>2003-11-16T02:45:04.598Z</td>\n",
              "      <td>https://randomuser.me/api/portraits/women/47.jpg</td>\n",
              "      <td>2024-11-06 19:34:27.806780</td>\n",
              "    </tr>\n",
              "    <tr>\n",
              "      <th>240</th>\n",
              "      <td>NSS 89 49 54 8420 4</td>\n",
              "      <td>Reina</td>\n",
              "      <td>Aguirre</td>\n",
              "      <td>Pinal de Amoles</td>\n",
              "      <td>Mexico</td>\n",
              "      <td>Yucatan</td>\n",
              "      <td>22.9805</td>\n",
              "      <td>152.9402</td>\n",
              "      <td>28864</td>\n",
              "      <td>Continuación Iraq, 23</td>\n",
              "      <td>...</td>\n",
              "      <td>d074079f-392b-4ee8-943e-d206093edab0</td>\n",
              "      <td>tinyswan231</td>\n",
              "      <td>coming</td>\n",
              "      <td>(652) 986 7027</td>\n",
              "      <td>(601) 585 6011</td>\n",
              "      <td>1945-09-11T16:01:39.002Z</td>\n",
              "      <td>79</td>\n",
              "      <td>2010-02-07T22:45:58.818Z</td>\n",
              "      <td>https://randomuser.me/api/portraits/women/2.jpg</td>\n",
              "      <td>2024-11-06 19:28:04.090451</td>\n",
              "    </tr>\n",
              "  </tbody>\n",
              "</table>\n",
              "<p>5 rows × 22 columns</p>\n",
              "</div>"
            ],
            "text/plain": [
              "                         id  firstname   lastname    location_city  \\\n",
              "20                     None       بیتا      رضایی           آبادان   \n",
              "988            BSN 67293686      Buşra  Swagerman            Gendt   \n",
              "930  INSEE 2900044111510 65  Gabrielle     Nguyen             Caen   \n",
              "880      CPF 621.543.459-57   Marivana      Alves        Paranaguá   \n",
              "240     NSS 89 49 54 8420 4      Reina    Aguirre  Pinal de Amoles   \n",
              "\n",
              "    location_country location_state location_latitude location_longitude  \\\n",
              "20              Iran             قم           21.0535           153.1912   \n",
              "988      Netherlands      Friesland           31.2510            78.2662   \n",
              "930           France          Paris          -19.6525            14.3837   \n",
              "880           Brazil      São Paulo          -77.2015           142.3469   \n",
              "240           Mexico        Yucatan           22.9805           152.9402   \n",
              "\n",
              "    location_postcode         location_street_info  ...  \\\n",
              "20              72440        شهید کبیری طامه, 7328  ...   \n",
              "988           5342 NT                Dammaat, 6648  ...   \n",
              "930             30259           Rue Gasparin, 3657  ...   \n",
              "880             84585  Rua Primeiro de Maio , 1147  ...   \n",
              "240             28864        Continuación Iraq, 23  ...   \n",
              "\n",
              "                               login_uuid login_username login_password  \\\n",
              "20   43a3b808-b303-455a-bd7e-fa37281c3c42  whitezebra680         joanne   \n",
              "988  1ae8a543-4293-4900-817c-a8aae1e01968  smallmouse553       jessica1   \n",
              "930  6bbf5e3c-3642-4ff3-becb-27cb2a3d93c2      sadcat541        rockies   \n",
              "880  a0a4189f-d142-43e8-a1d6-5ad17f8c05f1   happyfrog668        splurge   \n",
              "240  d074079f-392b-4ee8-943e-d206093edab0    tinyswan231         coming   \n",
              "\n",
              "              phone            cell             date_of_birth age  \\\n",
              "20     050-82731538   0902-552-6118  1956-07-26T00:22:39.576Z  68   \n",
              "988   (008) 0054528   (06) 17574400  1983-04-01T23:26:57.747Z  41   \n",
              "930  04-28-52-81-26  06-10-81-07-85  1990-01-30T16:16:50.316Z  34   \n",
              "880  (95) 7039-0899  (99) 5207-5201  1992-01-23T06:29:55.909Z  32   \n",
              "240  (652) 986 7027  (601) 585 6011  1945-09-11T16:01:39.002Z  79   \n",
              "\n",
              "         date_of_registration  \\\n",
              "20   2011-07-24T22:14:40.045Z   \n",
              "988  2015-11-13T22:52:18.184Z   \n",
              "930  2016-03-19T23:40:19.053Z   \n",
              "880  2003-11-16T02:45:04.598Z   \n",
              "240  2010-02-07T22:45:58.818Z   \n",
              "\n",
              "                                           photo_link  \\\n",
              "20   https://randomuser.me/api/portraits/women/18.jpg   \n",
              "988  https://randomuser.me/api/portraits/women/89.jpg   \n",
              "930  https://randomuser.me/api/portraits/women/14.jpg   \n",
              "880  https://randomuser.me/api/portraits/women/47.jpg   \n",
              "240   https://randomuser.me/api/portraits/women/2.jpg   \n",
              "\n",
              "                   extract_time  \n",
              "20   2024-11-06 19:25:48.867410  \n",
              "988  2024-11-06 19:35:35.427764  \n",
              "930  2024-11-06 19:34:57.916572  \n",
              "880  2024-11-06 19:34:27.806780  \n",
              "240  2024-11-06 19:28:04.090451  \n",
              "\n",
              "[5 rows x 22 columns]"
            ]
          },
          "execution_count": 119,
          "metadata": {},
          "output_type": "execute_result"
        }
      ],
      "source": [
        "# Display a random sample of 5 rows from the DataFrame\n",
        "df.sample(5)"
      ]
    },
    {
      "cell_type": "code",
      "execution_count": 120,
      "metadata": {
        "colab": {
          "base_uri": "https://localhost:8080/",
          "height": 349
        },
        "id": "K1k9TV04vz2e",
        "outputId": "7ff8e03d-4a49-4caa-8d32-64b4fa6b18ef"
      },
      "outputs": [
        {
          "data": {
            "text/html": [
              "<div>\n",
              "<style scoped>\n",
              "    .dataframe tbody tr th:only-of-type {\n",
              "        vertical-align: middle;\n",
              "    }\n",
              "\n",
              "    .dataframe tbody tr th {\n",
              "        vertical-align: top;\n",
              "    }\n",
              "\n",
              "    .dataframe thead th {\n",
              "        text-align: right;\n",
              "    }\n",
              "</style>\n",
              "<table border=\"1\" class=\"dataframe\">\n",
              "  <thead>\n",
              "    <tr style=\"text-align: right;\">\n",
              "      <th></th>\n",
              "      <th>id</th>\n",
              "      <th>firstname</th>\n",
              "      <th>lastname</th>\n",
              "      <th>location_city</th>\n",
              "      <th>location_country</th>\n",
              "      <th>location_state</th>\n",
              "      <th>location_latitude</th>\n",
              "      <th>location_longitude</th>\n",
              "      <th>location_postcode</th>\n",
              "      <th>location_street_info</th>\n",
              "      <th>...</th>\n",
              "      <th>login_uuid</th>\n",
              "      <th>login_username</th>\n",
              "      <th>login_password</th>\n",
              "      <th>phone</th>\n",
              "      <th>cell</th>\n",
              "      <th>date_of_birth</th>\n",
              "      <th>age</th>\n",
              "      <th>date_of_registration</th>\n",
              "      <th>photo_link</th>\n",
              "      <th>extract_time</th>\n",
              "    </tr>\n",
              "  </thead>\n",
              "  <tbody>\n",
              "    <tr>\n",
              "      <th>997</th>\n",
              "      <td>SVNR 47 090294 H 449</td>\n",
              "      <td>Edelbert</td>\n",
              "      <td>Henschel</td>\n",
              "      <td>Stadtroda</td>\n",
              "      <td>Germany</td>\n",
              "      <td>Bremen</td>\n",
              "      <td>-52.8726</td>\n",
              "      <td>-71.1584</td>\n",
              "      <td>24549</td>\n",
              "      <td>Tannenweg, 7053</td>\n",
              "      <td>...</td>\n",
              "      <td>35ebed42-f6bc-48ad-a2be-fda6250543b4</td>\n",
              "      <td>redswan948</td>\n",
              "      <td>bush</td>\n",
              "      <td>0130-3227206</td>\n",
              "      <td>0174-8458563</td>\n",
              "      <td>1994-02-09T18:19:05.342Z</td>\n",
              "      <td>30</td>\n",
              "      <td>2015-07-23T11:44:23.837Z</td>\n",
              "      <td>https://randomuser.me/api/portraits/men/43.jpg</td>\n",
              "      <td>2024-11-06 19:35:40.157342</td>\n",
              "    </tr>\n",
              "    <tr>\n",
              "      <th>998</th>\n",
              "      <td>SID 239569126</td>\n",
              "      <td>Slavoljub</td>\n",
              "      <td>Marinković</td>\n",
              "      <td>Bosilegrad</td>\n",
              "      <td>Serbia</td>\n",
              "      <td>Peć</td>\n",
              "      <td>61.2031</td>\n",
              "      <td>-132.7531</td>\n",
              "      <td>66528</td>\n",
              "      <td>Gorskog Cara, 4793</td>\n",
              "      <td>...</td>\n",
              "      <td>b607427a-ae3f-4ed6-9be9-d3fd6ac23757</td>\n",
              "      <td>whitemeercat866</td>\n",
              "      <td>raider</td>\n",
              "      <td>026-7124-341</td>\n",
              "      <td>066-4919-175</td>\n",
              "      <td>1957-11-15T22:55:19.794Z</td>\n",
              "      <td>66</td>\n",
              "      <td>2021-02-24T06:29:56.808Z</td>\n",
              "      <td>https://randomuser.me/api/portraits/men/84.jpg</td>\n",
              "      <td>2024-11-06 19:35:40.647949</td>\n",
              "    </tr>\n",
              "    <tr>\n",
              "      <th>999</th>\n",
              "      <td>None</td>\n",
              "      <td>Sedef</td>\n",
              "      <td>Çapanoğlu</td>\n",
              "      <td>Karaman</td>\n",
              "      <td>Turkey</td>\n",
              "      <td>Diyarbakır</td>\n",
              "      <td>69.3068</td>\n",
              "      <td>150.7686</td>\n",
              "      <td>85476</td>\n",
              "      <td>Tunalı Hilmi Cd, 5290</td>\n",
              "      <td>...</td>\n",
              "      <td>ee188ad4-d739-45e1-b8ee-1984e218cd10</td>\n",
              "      <td>tinybutterfly610</td>\n",
              "      <td>toriamos</td>\n",
              "      <td>(115)-781-0298</td>\n",
              "      <td>(552)-874-1352</td>\n",
              "      <td>1973-09-14T14:39:46.251Z</td>\n",
              "      <td>51</td>\n",
              "      <td>2007-12-14T13:12:01.334Z</td>\n",
              "      <td>https://randomuser.me/api/portraits/women/87.jpg</td>\n",
              "      <td>2024-11-06 19:35:41.123036</td>\n",
              "    </tr>\n",
              "  </tbody>\n",
              "</table>\n",
              "<p>3 rows × 22 columns</p>\n",
              "</div>"
            ],
            "text/plain": [
              "                       id  firstname    lastname location_city  \\\n",
              "997  SVNR 47 090294 H 449   Edelbert    Henschel     Stadtroda   \n",
              "998         SID 239569126  Slavoljub  Marinković    Bosilegrad   \n",
              "999                  None      Sedef   Çapanoğlu       Karaman   \n",
              "\n",
              "    location_country location_state location_latitude location_longitude  \\\n",
              "997          Germany         Bremen          -52.8726           -71.1584   \n",
              "998           Serbia            Peć           61.2031          -132.7531   \n",
              "999           Turkey     Diyarbakır           69.3068           150.7686   \n",
              "\n",
              "    location_postcode   location_street_info  ...  \\\n",
              "997             24549        Tannenweg, 7053  ...   \n",
              "998             66528     Gorskog Cara, 4793  ...   \n",
              "999             85476  Tunalı Hilmi Cd, 5290  ...   \n",
              "\n",
              "                               login_uuid    login_username login_password  \\\n",
              "997  35ebed42-f6bc-48ad-a2be-fda6250543b4        redswan948           bush   \n",
              "998  b607427a-ae3f-4ed6-9be9-d3fd6ac23757   whitemeercat866         raider   \n",
              "999  ee188ad4-d739-45e1-b8ee-1984e218cd10  tinybutterfly610       toriamos   \n",
              "\n",
              "              phone            cell             date_of_birth age  \\\n",
              "997    0130-3227206    0174-8458563  1994-02-09T18:19:05.342Z  30   \n",
              "998    026-7124-341    066-4919-175  1957-11-15T22:55:19.794Z  66   \n",
              "999  (115)-781-0298  (552)-874-1352  1973-09-14T14:39:46.251Z  51   \n",
              "\n",
              "         date_of_registration  \\\n",
              "997  2015-07-23T11:44:23.837Z   \n",
              "998  2021-02-24T06:29:56.808Z   \n",
              "999  2007-12-14T13:12:01.334Z   \n",
              "\n",
              "                                           photo_link  \\\n",
              "997    https://randomuser.me/api/portraits/men/43.jpg   \n",
              "998    https://randomuser.me/api/portraits/men/84.jpg   \n",
              "999  https://randomuser.me/api/portraits/women/87.jpg   \n",
              "\n",
              "                   extract_time  \n",
              "997  2024-11-06 19:35:40.157342  \n",
              "998  2024-11-06 19:35:40.647949  \n",
              "999  2024-11-06 19:35:41.123036  \n",
              "\n",
              "[3 rows x 22 columns]"
            ]
          },
          "execution_count": 120,
          "metadata": {},
          "output_type": "execute_result"
        }
      ],
      "source": [
        "# Display the last 3 rows of the DataFrame\n",
        "df.tail(3)"
      ]
    },
    {
      "cell_type": "code",
      "execution_count": 121,
      "metadata": {
        "colab": {
          "base_uri": "https://localhost:8080/"
        },
        "id": "7xLv55JDwRWW",
        "outputId": "e80da52d-8f0d-4239-e3e4-f2b2d77e8b5d"
      },
      "outputs": [
        {
          "name": "stdout",
          "output_type": "stream",
          "text": [
            "<class 'pandas.core.frame.DataFrame'>\n",
            "RangeIndex: 1000 entries, 0 to 999\n",
            "Data columns (total 22 columns):\n",
            " #   Column                Non-Null Count  Dtype \n",
            "---  ------                --------------  ----- \n",
            " 0   id                    1000 non-null   object\n",
            " 1   firstname             1000 non-null   object\n",
            " 2   lastname              1000 non-null   object\n",
            " 3   location_city         1000 non-null   object\n",
            " 4   location_country      1000 non-null   object\n",
            " 5   location_state        1000 non-null   object\n",
            " 6   location_latitude     1000 non-null   object\n",
            " 7   location_longitude    1000 non-null   object\n",
            " 8   location_postcode     1000 non-null   object\n",
            " 9   location_street_info  1000 non-null   object\n",
            " 10  email                 1000 non-null   object\n",
            " 11  gender                1000 non-null   object\n",
            " 12  login_uuid            1000 non-null   object\n",
            " 13  login_username        1000 non-null   object\n",
            " 14  login_password        1000 non-null   object\n",
            " 15  phone                 1000 non-null   object\n",
            " 16  cell                  1000 non-null   object\n",
            " 17  date_of_birth         1000 non-null   object\n",
            " 18  age                   1000 non-null   int64 \n",
            " 19  date_of_registration  1000 non-null   object\n",
            " 20  photo_link            1000 non-null   object\n",
            " 21  extract_time          1000 non-null   object\n",
            "dtypes: int64(1), object(21)\n",
            "memory usage: 172.0+ KB\n"
          ]
        }
      ],
      "source": [
        "# Display a concise summary of the DataFrame\n",
        "df.info()"
      ]
    },
    {
      "cell_type": "code",
      "execution_count": 122,
      "metadata": {
        "colab": {
          "base_uri": "https://localhost:8080/",
          "height": 424
        },
        "id": "a2X6QDuCNeXm",
        "outputId": "e4542b99-69fe-4e03-dc9d-8b1e63c1df81"
      },
      "outputs": [
        {
          "data": {
            "text/html": [
              "<div>\n",
              "<style scoped>\n",
              "    .dataframe tbody tr th:only-of-type {\n",
              "        vertical-align: middle;\n",
              "    }\n",
              "\n",
              "    .dataframe tbody tr th {\n",
              "        vertical-align: top;\n",
              "    }\n",
              "\n",
              "    .dataframe thead th {\n",
              "        text-align: right;\n",
              "    }\n",
              "</style>\n",
              "<table border=\"1\" class=\"dataframe\">\n",
              "  <thead>\n",
              "    <tr style=\"text-align: right;\">\n",
              "      <th></th>\n",
              "      <th>location_latitude</th>\n",
              "      <th>location_longitude</th>\n",
              "    </tr>\n",
              "  </thead>\n",
              "  <tbody>\n",
              "    <tr>\n",
              "      <th>0</th>\n",
              "      <td>52.0345</td>\n",
              "      <td>-87.3133</td>\n",
              "    </tr>\n",
              "    <tr>\n",
              "      <th>1</th>\n",
              "      <td>-57.6771</td>\n",
              "      <td>-86.0432</td>\n",
              "    </tr>\n",
              "    <tr>\n",
              "      <th>2</th>\n",
              "      <td>65.3337</td>\n",
              "      <td>-51.0028</td>\n",
              "    </tr>\n",
              "    <tr>\n",
              "      <th>3</th>\n",
              "      <td>-63.5964</td>\n",
              "      <td>155.6821</td>\n",
              "    </tr>\n",
              "    <tr>\n",
              "      <th>4</th>\n",
              "      <td>-38.0238</td>\n",
              "      <td>-55.6996</td>\n",
              "    </tr>\n",
              "    <tr>\n",
              "      <th>...</th>\n",
              "      <td>...</td>\n",
              "      <td>...</td>\n",
              "    </tr>\n",
              "    <tr>\n",
              "      <th>995</th>\n",
              "      <td>55.6881</td>\n",
              "      <td>-126.4076</td>\n",
              "    </tr>\n",
              "    <tr>\n",
              "      <th>996</th>\n",
              "      <td>65.6947</td>\n",
              "      <td>-93.6611</td>\n",
              "    </tr>\n",
              "    <tr>\n",
              "      <th>997</th>\n",
              "      <td>-52.8726</td>\n",
              "      <td>-71.1584</td>\n",
              "    </tr>\n",
              "    <tr>\n",
              "      <th>998</th>\n",
              "      <td>61.2031</td>\n",
              "      <td>-132.7531</td>\n",
              "    </tr>\n",
              "    <tr>\n",
              "      <th>999</th>\n",
              "      <td>69.3068</td>\n",
              "      <td>150.7686</td>\n",
              "    </tr>\n",
              "  </tbody>\n",
              "</table>\n",
              "<p>1000 rows × 2 columns</p>\n",
              "</div>"
            ],
            "text/plain": [
              "    location_latitude location_longitude\n",
              "0             52.0345           -87.3133\n",
              "1            -57.6771           -86.0432\n",
              "2             65.3337           -51.0028\n",
              "3            -63.5964           155.6821\n",
              "4            -38.0238           -55.6996\n",
              "..                ...                ...\n",
              "995           55.6881          -126.4076\n",
              "996           65.6947           -93.6611\n",
              "997          -52.8726           -71.1584\n",
              "998           61.2031          -132.7531\n",
              "999           69.3068           150.7686\n",
              "\n",
              "[1000 rows x 2 columns]"
            ]
          },
          "execution_count": 122,
          "metadata": {},
          "output_type": "execute_result"
        }
      ],
      "source": [
        "# Select the 'location_latitude' and 'location_longitude' columns from the DataFrame\n",
        "df[['location_latitude', 'location_longitude']]"
      ]
    },
    {
      "cell_type": "code",
      "execution_count": 123,
      "metadata": {
        "colab": {
          "base_uri": "https://localhost:8080/",
          "height": 424
        },
        "id": "gnySuI-1Qq4D",
        "outputId": "466bff92-20ed-4ecc-a427-a454f57e6878"
      },
      "outputs": [
        {
          "data": {
            "text/html": [
              "<div>\n",
              "<style scoped>\n",
              "    .dataframe tbody tr th:only-of-type {\n",
              "        vertical-align: middle;\n",
              "    }\n",
              "\n",
              "    .dataframe tbody tr th {\n",
              "        vertical-align: top;\n",
              "    }\n",
              "\n",
              "    .dataframe thead th {\n",
              "        text-align: right;\n",
              "    }\n",
              "</style>\n",
              "<table border=\"1\" class=\"dataframe\">\n",
              "  <thead>\n",
              "    <tr style=\"text-align: right;\">\n",
              "      <th></th>\n",
              "      <th>location_latitude</th>\n",
              "      <th>location_longitude</th>\n",
              "    </tr>\n",
              "  </thead>\n",
              "  <tbody>\n",
              "    <tr>\n",
              "      <th>0</th>\n",
              "      <td>52.0345</td>\n",
              "      <td>-87.3133</td>\n",
              "    </tr>\n",
              "    <tr>\n",
              "      <th>1</th>\n",
              "      <td>-57.6771</td>\n",
              "      <td>-86.0432</td>\n",
              "    </tr>\n",
              "    <tr>\n",
              "      <th>2</th>\n",
              "      <td>65.3337</td>\n",
              "      <td>-51.0028</td>\n",
              "    </tr>\n",
              "    <tr>\n",
              "      <th>3</th>\n",
              "      <td>-63.5964</td>\n",
              "      <td>155.6821</td>\n",
              "    </tr>\n",
              "    <tr>\n",
              "      <th>4</th>\n",
              "      <td>-38.0238</td>\n",
              "      <td>-55.6996</td>\n",
              "    </tr>\n",
              "    <tr>\n",
              "      <th>...</th>\n",
              "      <td>...</td>\n",
              "      <td>...</td>\n",
              "    </tr>\n",
              "    <tr>\n",
              "      <th>995</th>\n",
              "      <td>55.6881</td>\n",
              "      <td>-126.4076</td>\n",
              "    </tr>\n",
              "    <tr>\n",
              "      <th>996</th>\n",
              "      <td>65.6947</td>\n",
              "      <td>-93.6611</td>\n",
              "    </tr>\n",
              "    <tr>\n",
              "      <th>997</th>\n",
              "      <td>-52.8726</td>\n",
              "      <td>-71.1584</td>\n",
              "    </tr>\n",
              "    <tr>\n",
              "      <th>998</th>\n",
              "      <td>61.2031</td>\n",
              "      <td>-132.7531</td>\n",
              "    </tr>\n",
              "    <tr>\n",
              "      <th>999</th>\n",
              "      <td>69.3068</td>\n",
              "      <td>150.7686</td>\n",
              "    </tr>\n",
              "  </tbody>\n",
              "</table>\n",
              "<p>1000 rows × 2 columns</p>\n",
              "</div>"
            ],
            "text/plain": [
              "    location_latitude location_longitude\n",
              "0             52.0345           -87.3133\n",
              "1            -57.6771           -86.0432\n",
              "2             65.3337           -51.0028\n",
              "3            -63.5964           155.6821\n",
              "4            -38.0238           -55.6996\n",
              "..                ...                ...\n",
              "995           55.6881          -126.4076\n",
              "996           65.6947           -93.6611\n",
              "997          -52.8726           -71.1584\n",
              "998           61.2031          -132.7531\n",
              "999           69.3068           150.7686\n",
              "\n",
              "[1000 rows x 2 columns]"
            ]
          },
          "execution_count": 123,
          "metadata": {},
          "output_type": "execute_result"
        }
      ],
      "source": [
        "# Select the 'location_latitude' and 'location_longitude' columns from the DataFrame using the .get() method\n",
        "df.get(['location_latitude', 'location_longitude'])"
      ]
    },
    {
      "cell_type": "code",
      "execution_count": 124,
      "metadata": {
        "colab": {
          "base_uri": "https://localhost:8080/",
          "height": 424
        },
        "id": "uxxGrQcyQyHF",
        "outputId": "c46b25b3-cd5c-4e8a-87e7-a36512aab4a9"
      },
      "outputs": [
        {
          "data": {
            "text/html": [
              "<div>\n",
              "<style scoped>\n",
              "    .dataframe tbody tr th:only-of-type {\n",
              "        vertical-align: middle;\n",
              "    }\n",
              "\n",
              "    .dataframe tbody tr th {\n",
              "        vertical-align: top;\n",
              "    }\n",
              "\n",
              "    .dataframe thead th {\n",
              "        text-align: right;\n",
              "    }\n",
              "</style>\n",
              "<table border=\"1\" class=\"dataframe\">\n",
              "  <thead>\n",
              "    <tr style=\"text-align: right;\">\n",
              "      <th></th>\n",
              "      <th>location_latitude</th>\n",
              "      <th>location_longitude</th>\n",
              "    </tr>\n",
              "  </thead>\n",
              "  <tbody>\n",
              "    <tr>\n",
              "      <th>0</th>\n",
              "      <td>52.0345</td>\n",
              "      <td>-87.3133</td>\n",
              "    </tr>\n",
              "    <tr>\n",
              "      <th>1</th>\n",
              "      <td>-57.6771</td>\n",
              "      <td>-86.0432</td>\n",
              "    </tr>\n",
              "    <tr>\n",
              "      <th>2</th>\n",
              "      <td>65.3337</td>\n",
              "      <td>-51.0028</td>\n",
              "    </tr>\n",
              "    <tr>\n",
              "      <th>3</th>\n",
              "      <td>-63.5964</td>\n",
              "      <td>155.6821</td>\n",
              "    </tr>\n",
              "    <tr>\n",
              "      <th>4</th>\n",
              "      <td>-38.0238</td>\n",
              "      <td>-55.6996</td>\n",
              "    </tr>\n",
              "    <tr>\n",
              "      <th>...</th>\n",
              "      <td>...</td>\n",
              "      <td>...</td>\n",
              "    </tr>\n",
              "    <tr>\n",
              "      <th>995</th>\n",
              "      <td>55.6881</td>\n",
              "      <td>-126.4076</td>\n",
              "    </tr>\n",
              "    <tr>\n",
              "      <th>996</th>\n",
              "      <td>65.6947</td>\n",
              "      <td>-93.6611</td>\n",
              "    </tr>\n",
              "    <tr>\n",
              "      <th>997</th>\n",
              "      <td>-52.8726</td>\n",
              "      <td>-71.1584</td>\n",
              "    </tr>\n",
              "    <tr>\n",
              "      <th>998</th>\n",
              "      <td>61.2031</td>\n",
              "      <td>-132.7531</td>\n",
              "    </tr>\n",
              "    <tr>\n",
              "      <th>999</th>\n",
              "      <td>69.3068</td>\n",
              "      <td>150.7686</td>\n",
              "    </tr>\n",
              "  </tbody>\n",
              "</table>\n",
              "<p>1000 rows × 2 columns</p>\n",
              "</div>"
            ],
            "text/plain": [
              "    location_latitude location_longitude\n",
              "0             52.0345           -87.3133\n",
              "1            -57.6771           -86.0432\n",
              "2             65.3337           -51.0028\n",
              "3            -63.5964           155.6821\n",
              "4            -38.0238           -55.6996\n",
              "..                ...                ...\n",
              "995           55.6881          -126.4076\n",
              "996           65.6947           -93.6611\n",
              "997          -52.8726           -71.1584\n",
              "998           61.2031          -132.7531\n",
              "999           69.3068           150.7686\n",
              "\n",
              "[1000 rows x 2 columns]"
            ]
          },
          "execution_count": 124,
          "metadata": {},
          "output_type": "execute_result"
        }
      ],
      "source": [
        "# Select the 'location_latitude' and 'location_longitude' columns from the DataFrame using the .loc() method\n",
        "df.loc[:, ['location_latitude', 'location_longitude']]"
      ]
    },
    {
      "cell_type": "code",
      "execution_count": 125,
      "metadata": {
        "id": "JHhY70-Iwzm6"
      },
      "outputs": [],
      "source": [
        "# Convert the 'location_longitude' and 'location_latitude' columns to float type\n",
        "df['location_longitude'] = df['location_longitude'].astype(float)\n",
        "df['location_latitude'] = df['location_latitude'].astype(float)"
      ]
    },
    {
      "cell_type": "code",
      "execution_count": 126,
      "metadata": {
        "colab": {
          "base_uri": "https://localhost:8080/",
          "height": 147
        },
        "id": "ejM4v974T5dS",
        "outputId": "fc5de681-37d1-4271-d102-a618cc4eb0c8"
      },
      "outputs": [
        {
          "data": {
            "text/plain": [
              "location_latitude     float64\n",
              "location_longitude    float64\n",
              "dtype: object"
            ]
          },
          "execution_count": 126,
          "metadata": {},
          "output_type": "execute_result"
        }
      ],
      "source": [
        "# Get the data types of the 'location_latitude' and 'location_longitude' columns\n",
        "df.get(['location_latitude', 'location_longitude']).dtypes"
      ]
    },
    {
      "cell_type": "code",
      "execution_count": 127,
      "metadata": {
        "colab": {
          "base_uri": "https://localhost:8080/"
        },
        "id": "VSTEsX0dYiAa",
        "outputId": "55f71df1-b498-417f-eb02-208ec788a4cd"
      },
      "outputs": [
        {
          "data": {
            "text/plain": [
              "Index(['id', 'firstname', 'lastname', 'location_city', 'location_country',\n",
              "       'location_state', 'location_latitude', 'location_longitude',\n",
              "       'location_postcode', 'location_street_info', 'email', 'gender',\n",
              "       'login_uuid', 'login_username', 'login_password', 'phone', 'cell',\n",
              "       'date_of_birth', 'age', 'date_of_registration', 'photo_link',\n",
              "       'extract_time'],\n",
              "      dtype='object')"
            ]
          },
          "execution_count": 127,
          "metadata": {},
          "output_type": "execute_result"
        }
      ],
      "source": [
        "# Retrieve the column names of the DataFrame 'df'\n",
        "df.columns"
      ]
    },
    {
      "cell_type": "markdown",
      "metadata": {
        "id": "CLxROloNU3UT"
      },
      "source": [
        "Python has a wide range of modules for most typical tasks. While using external modules carries some risk, it is often more productive than \"reinventing the wheel\". In our dataset, we have a column called `'location_country'`, which currently contains strings that are not very useful. But, if we convert these strings into a standardized format (such as [ISO](https://www.iso.org/)), we can extract some valuable information.\n",
        "\n",
        "Regarding `'location_country'` column: we can convert the country names to [ISO2](https://www.iban.com/country-codes/) format using the [country-converter](https://pypi.org/project/country-converter/) module."
      ]
    },
    {
      "cell_type": "code",
      "execution_count": 128,
      "metadata": {
        "colab": {
          "base_uri": "https://localhost:8080/"
        },
        "id": "o4b7aqg3syU4",
        "outputId": "69802884-d05d-4c8c-ca97-fdc10df9af21"
      },
      "outputs": [
        {
          "name": "stdout",
          "output_type": "stream",
          "text": [
            "Requirement already satisfied: country_converter in /Users/yuran653/42_ds_club/.venv/lib/python3.10/site-packages (1.2)\n",
            "Requirement already satisfied: pandas>=1.0 in /Users/yuran653/42_ds_club/.venv/lib/python3.10/site-packages (from country_converter) (2.2.3)\n",
            "Requirement already satisfied: numpy>=1.22.4 in /Users/yuran653/42_ds_club/.venv/lib/python3.10/site-packages (from pandas>=1.0->country_converter) (2.1.3)\n",
            "Requirement already satisfied: python-dateutil>=2.8.2 in /Users/yuran653/42_ds_club/.venv/lib/python3.10/site-packages (from pandas>=1.0->country_converter) (2.9.0.post0)\n",
            "Requirement already satisfied: pytz>=2020.1 in /Users/yuran653/42_ds_club/.venv/lib/python3.10/site-packages (from pandas>=1.0->country_converter) (2024.2)\n",
            "Requirement already satisfied: tzdata>=2022.7 in /Users/yuran653/42_ds_club/.venv/lib/python3.10/site-packages (from pandas>=1.0->country_converter) (2024.2)\n",
            "Requirement already satisfied: six>=1.5 in /Users/yuran653/42_ds_club/.venv/lib/python3.10/site-packages (from python-dateutil>=2.8.2->pandas>=1.0->country_converter) (1.16.0)\n"
          ]
        }
      ],
      "source": [
        "# Install the 'country_converter' package\n",
        "!pip3 install country_converter"
      ]
    },
    {
      "cell_type": "code",
      "execution_count": 129,
      "metadata": {
        "id": "Qbe9Fk6jhXGh"
      },
      "outputs": [],
      "source": [
        "# Import 'country_converter' module\n",
        "import country_converter"
      ]
    },
    {
      "cell_type": "code",
      "execution_count": 130,
      "metadata": {
        "id": "2LtqVyD5UvAx"
      },
      "outputs": [],
      "source": [
        "# Define a function to convert a country name to ISO2 code\n",
        "def convert_country_code(country_name: str) -> str:\n",
        "  iso_code = country_converter.convert(country_name, to='ISO2')\n",
        "  return iso_code\n",
        "\n",
        "# Apply the convert_country_code function to the 'location_country' column\n",
        "# and create a new column 'country_iso2' with the ISO2 country codes\n",
        "df['country_iso2'] = df['location_country'].apply(convert_country_code)"
      ]
    },
    {
      "cell_type": "code",
      "execution_count": 131,
      "metadata": {
        "colab": {
          "base_uri": "https://localhost:8080/",
          "height": 774
        },
        "id": "cVjb21g7ZlFa",
        "outputId": "3fafe8bc-e391-40ea-abf3-41d36684a8c7"
      },
      "outputs": [
        {
          "data": {
            "text/plain": [
              "location_country  country_iso2\n",
              "Ireland           IE              60\n",
              "Netherlands       NL              57\n",
              "Spain             ES              56\n",
              "Serbia            RS              54\n",
              "Ukraine           UA              54\n",
              "Brazil            BR              53\n",
              "Turkey            TR              52\n",
              "New Zealand       NZ              52\n",
              "United States     US              50\n",
              "Norway            NO              48\n",
              "Australia         AU              48\n",
              "Finland           FI              48\n",
              "Iran              IR              46\n",
              "United Kingdom    GB              45\n",
              "Mexico            MX              44\n",
              "Germany           DE              42\n",
              "Canada            CA              41\n",
              "Switzerland       CH              41\n",
              "Denmark           DK              40\n",
              "France            FR              35\n",
              "India             IN              34\n",
              "Name: count, dtype: int64"
            ]
          },
          "execution_count": 131,
          "metadata": {},
          "output_type": "execute_result"
        }
      ],
      "source": [
        "# Count the occurrences of unique combinations of the values (including NaN)\n",
        "# in the 'location_country' and 'country_iso2' columns\n",
        "df.get(['location_country', 'country_iso2']).value_counts(dropna=False)"
      ]
    },
    {
      "cell_type": "code",
      "execution_count": 132,
      "metadata": {
        "colab": {
          "base_uri": "https://localhost:8080/",
          "height": 147
        },
        "id": "OpI4NfCXq4mE",
        "outputId": "27dc159d-22e5-4f23-99b1-2a73fa576196"
      },
      "outputs": [
        {
          "data": {
            "text/plain": [
              "phone    0\n",
              "cell     0\n",
              "dtype: int64"
            ]
          },
          "execution_count": 132,
          "metadata": {},
          "output_type": "execute_result"
        }
      ],
      "source": [
        "# Count the number of NaN values in the 'phone' and 'cell' columns\n",
        "df.get(['phone', 'cell']).isna().sum()"
      ]
    },
    {
      "cell_type": "code",
      "execution_count": 133,
      "metadata": {
        "colab": {
          "base_uri": "https://localhost:8080/",
          "height": 424
        },
        "id": "NBMqEHUIn8va",
        "outputId": "86a9274d-6dd3-4f35-e73c-8eba95f0eca6"
      },
      "outputs": [
        {
          "data": {
            "text/html": [
              "<div>\n",
              "<style scoped>\n",
              "    .dataframe tbody tr th:only-of-type {\n",
              "        vertical-align: middle;\n",
              "    }\n",
              "\n",
              "    .dataframe tbody tr th {\n",
              "        vertical-align: top;\n",
              "    }\n",
              "\n",
              "    .dataframe thead th {\n",
              "        text-align: right;\n",
              "    }\n",
              "</style>\n",
              "<table border=\"1\" class=\"dataframe\">\n",
              "  <thead>\n",
              "    <tr style=\"text-align: right;\">\n",
              "      <th></th>\n",
              "      <th>phone</th>\n",
              "      <th>cell</th>\n",
              "    </tr>\n",
              "  </thead>\n",
              "  <tbody>\n",
              "    <tr>\n",
              "      <th>0</th>\n",
              "      <td>(066)-886-3947</td>\n",
              "      <td>(977)-396-9271</td>\n",
              "    </tr>\n",
              "    <tr>\n",
              "      <th>1</th>\n",
              "      <td>077 077 94 68</td>\n",
              "      <td>075 506 56 98</td>\n",
              "    </tr>\n",
              "    <tr>\n",
              "      <th>2</th>\n",
              "      <td>(240)-806-2105</td>\n",
              "      <td>(427)-505-7703</td>\n",
              "    </tr>\n",
              "    <tr>\n",
              "      <th>3</th>\n",
              "      <td>077 628 04 50</td>\n",
              "      <td>079 341 14 16</td>\n",
              "    </tr>\n",
              "    <tr>\n",
              "      <th>4</th>\n",
              "      <td>925-715-104</td>\n",
              "      <td>695-383-194</td>\n",
              "    </tr>\n",
              "    <tr>\n",
              "      <th>...</th>\n",
              "      <td>...</td>\n",
              "      <td>...</td>\n",
              "    </tr>\n",
              "    <tr>\n",
              "      <th>995</th>\n",
              "      <td>(846)-702-7439</td>\n",
              "      <td>(461)-385-7218</td>\n",
              "    </tr>\n",
              "    <tr>\n",
              "      <th>996</th>\n",
              "      <td>(607)-448-4494</td>\n",
              "      <td>(083)-968-5969</td>\n",
              "    </tr>\n",
              "    <tr>\n",
              "      <th>997</th>\n",
              "      <td>0130-3227206</td>\n",
              "      <td>0174-8458563</td>\n",
              "    </tr>\n",
              "    <tr>\n",
              "      <th>998</th>\n",
              "      <td>026-7124-341</td>\n",
              "      <td>066-4919-175</td>\n",
              "    </tr>\n",
              "    <tr>\n",
              "      <th>999</th>\n",
              "      <td>(115)-781-0298</td>\n",
              "      <td>(552)-874-1352</td>\n",
              "    </tr>\n",
              "  </tbody>\n",
              "</table>\n",
              "<p>1000 rows × 2 columns</p>\n",
              "</div>"
            ],
            "text/plain": [
              "              phone            cell\n",
              "0    (066)-886-3947  (977)-396-9271\n",
              "1     077 077 94 68   075 506 56 98\n",
              "2    (240)-806-2105  (427)-505-7703\n",
              "3     077 628 04 50   079 341 14 16\n",
              "4       925-715-104     695-383-194\n",
              "..              ...             ...\n",
              "995  (846)-702-7439  (461)-385-7218\n",
              "996  (607)-448-4494  (083)-968-5969\n",
              "997    0130-3227206    0174-8458563\n",
              "998    026-7124-341    066-4919-175\n",
              "999  (115)-781-0298  (552)-874-1352\n",
              "\n",
              "[1000 rows x 2 columns]"
            ]
          },
          "execution_count": 133,
          "metadata": {},
          "output_type": "execute_result"
        }
      ],
      "source": [
        "# Select the 'phone' and 'cell' columns\n",
        "df.get(['phone', 'cell'])"
      ]
    },
    {
      "cell_type": "markdown",
      "metadata": {
        "id": "WJbFC9kbmd8F"
      },
      "source": [
        "The `'phone'` and `'cell'` columns do not contain missing (`NaN`) values, but the phone number formats differ, making the values unclear. A good approach is [to standardize all phone numbers](https://medium.com/@marc.bolle/fetching-and-formatting-phone-numbers-in-python-794ae16ab198) according to the [E.164](https://en.wikipedia.org/wiki/E.164) format using the [phonenumbers module](https://github.com/daviddrysdale/python-phonenumbers/tree/dev) [(documentation available)](https://daviddrysdale.github.io/python-phonenumbers/#-is_valid_number)."
      ]
    },
    {
      "cell_type": "code",
      "execution_count": 134,
      "metadata": {
        "colab": {
          "base_uri": "https://localhost:8080/"
        },
        "id": "4_aqPQv4m3HI",
        "outputId": "64876ea2-8f0d-4a91-bc26-404460bc8287"
      },
      "outputs": [
        {
          "name": "stdout",
          "output_type": "stream",
          "text": [
            "Requirement already satisfied: phonenumbers in /Users/yuran653/42_ds_club/.venv/lib/python3.10/site-packages (8.13.49)\n"
          ]
        }
      ],
      "source": [
        "!pip3 install phonenumbers"
      ]
    },
    {
      "cell_type": "code",
      "execution_count": 135,
      "metadata": {
        "id": "tLLP5OLoik4I"
      },
      "outputs": [],
      "source": [
        "import phonenumbers as ph\n",
        "from phonenumbers.phonenumberutil import NumberParseException"
      ]
    },
    {
      "cell_type": "markdown",
      "metadata": {
        "id": "ehcIFDT4p1oy"
      },
      "source": [
        "The relevant methods of the module do not correctly convert US and Canadian numbers that contain letters and do not fully parse all `'()'`, and `'-'` characters. Here is my simple function to handle this:"
      ]
    },
    {
      "cell_type": "code",
      "execution_count": 136,
      "metadata": {
        "id": "JWsvd-cQqt00"
      },
      "outputs": [],
      "source": [
        "# Define a function to convert alpha characters to their corresponding digits\n",
        "def convert_alpha(phone_number : str) -> str:\n",
        "  # Mapping of alpha characters to their respective digits on a phone keypad\n",
        "  letters_to_digit = {\n",
        "      'A': '2', 'B': '2', 'C': '2',\n",
        "      'D': '3', 'E': '3', 'F': '3',\n",
        "      'G': '4', 'H': '4', 'I': '4',\n",
        "      'J': '5', 'K': '5', 'L': '5',\n",
        "      'M': '6', 'N': '6', 'O': '6',\n",
        "      'P': '7', 'Q': '7', 'R': '7', 'S': '7',\n",
        "      'T': '8', 'U': '8', 'V': '8',\n",
        "      'W': '9', 'X': '9', 'Y': '9', 'Z': '9'\n",
        "  }\n",
        "\n",
        "  # Skips any character that is not a number or in the map\n",
        "  # Convert the character to its corresponding digit if it is in the map\n",
        "  return ''.join(letters_to_digit.get(c, c) for c in phone_number.upper()\n",
        "                   if letters_to_digit.get(c, c).isdigit())"
      ]
    },
    {
      "cell_type": "code",
      "execution_count": 137,
      "metadata": {
        "id": "Oqa94ycEoHK-"
      },
      "outputs": [],
      "source": [
        "# Define a function to normalize a phone number\n",
        "def normalize_number(number: str, cc_iso2: str) -> str:\n",
        "  try:\n",
        "    # Parse the phone number after converting alphabetic characters using the ISO2 code\n",
        "    number_obj = ph.parse(convert_alpha(number), region=cc_iso2)\n",
        "  except NumberParseException as e:\n",
        "    return 'number_not_parsed'\n",
        "  # Check if the parsed number is valid\n",
        "    if not ph.is_valid_number(number_obj):\n",
        "      return 'number_not_valid'\n",
        "  # Format the valid number to E.164 format\n",
        "  normalized = ph.format_number(number_obj, ph.PhoneNumberFormat.E164)\n",
        "  return normalized"
      ]
    },
    {
      "cell_type": "markdown",
      "metadata": {
        "id": "HqhTsgwovjdP"
      },
      "source": [
        "By the way, without ISO2 code the `'parse'` method does not work"
      ]
    },
    {
      "cell_type": "code",
      "execution_count": 138,
      "metadata": {
        "id": "lkg1OnvxsBAu"
      },
      "outputs": [],
      "source": [
        "# Normalize the 'phone' and 'cell' columns for each row\n",
        "# Store the results in a new columns 'normalized_phone' and 'normalized_cell'\n",
        "df['normalized_phone'] = df.apply(lambda row: normalize_number(row['phone'], row['country_iso2']), axis=1)\n",
        "df['normalized_cell'] = df.apply(lambda row: normalize_number(row['cell'], row['country_iso2']), axis=1)"
      ]
    },
    {
      "cell_type": "code",
      "execution_count": 139,
      "metadata": {
        "colab": {
          "base_uri": "https://localhost:8080/",
          "height": 490
        },
        "id": "A9hcHNEsfArb",
        "outputId": "cf379b82-a8d4-4156-b85d-e16954da9156"
      },
      "outputs": [
        {
          "data": {
            "text/plain": [
              "normalized_phone \n",
              "number_not_parsed    2\n",
              "+986657982821        1\n",
              "+986539563284        1\n",
              "+12608307760         1\n",
              "+13963925868         1\n",
              "                    ..\n",
              "+989084560917        1\n",
              "+989198460257        1\n",
              "+989593473441        1\n",
              "+989869615214        1\n",
              "+984006359426        1\n",
              "Name: count, Length: 999, dtype: int64"
            ]
          },
          "execution_count": 139,
          "metadata": {},
          "output_type": "execute_result"
        }
      ],
      "source": [
        "# Count the occurrences of unique value in the 'normalized_phone', including NaN's\n",
        "df.get(['normalized_phone']).value_counts(dropna=False)"
      ]
    },
    {
      "cell_type": "code",
      "execution_count": 140,
      "metadata": {
        "colab": {
          "base_uri": "https://localhost:8080/",
          "height": 490
        },
        "id": "w0OqORemlO_e",
        "outputId": "06b17da1-7264-4d39-ae73-86507b5a03dd"
      },
      "outputs": [
        {
          "data": {
            "text/plain": [
              "normalized_cell  \n",
              "number_not_parsed    1\n",
              "+12228885462         1\n",
              "+12255710233         1\n",
              "+12265280368         1\n",
              "+12496163711         1\n",
              "                    ..\n",
              "+13117578564         1\n",
              "+13113932972         1\n",
              "+13112431012         1\n",
              "+13089535966         1\n",
              "+13082701373         1\n",
              "Name: count, Length: 1000, dtype: int64"
            ]
          },
          "execution_count": 140,
          "metadata": {},
          "output_type": "execute_result"
        }
      ],
      "source": [
        "# Count the occurrences of unique value in the 'normalized_cell', including NaN's\n",
        "df.get(['normalized_cell']).value_counts(dropna=False)"
      ]
    },
    {
      "cell_type": "code",
      "execution_count": 141,
      "metadata": {
        "id": "2W_6eUh8hjat"
      },
      "outputs": [],
      "source": [
        "from datetime import datetime"
      ]
    },
    {
      "cell_type": "markdown",
      "metadata": {
        "id": "j8GSa7NMy3bN"
      },
      "source": [
        "[Python Datetime](https://www.w3schools.com/python/python_datetime.asp)\n",
        "\n",
        "[pandas.to_datetime](https://pandas.pydata.org/docs/reference/api/pandas.to_datetime.html)"
      ]
    },
    {
      "cell_type": "code",
      "execution_count": 142,
      "metadata": {
        "id": "B-095zDuwJgt"
      },
      "outputs": [],
      "source": [
        "# Convert data-related columns to datetime object\n",
        "df[\"date_of_registration\"] = pd.to_datetime(df[\"date_of_registration\"])\n",
        "df[\"date_of_birth\"] = pd.to_datetime(df[\"date_of_birth\"])\n",
        "df[\"extract_time\"] = pd.to_datetime(df[\"extract_time\"])"
      ]
    },
    {
      "cell_type": "code",
      "execution_count": 143,
      "metadata": {
        "id": "jK4sHDCNwjgf"
      },
      "outputs": [],
      "source": [
        "# Extract the year, month, and day from 'date_of_registration' and create separate columns\n",
        "df[\"year_of_registration\"] = df[\"date_of_registration\"].dt.year\n",
        "df[\"month_of_registration\"] = df[\"date_of_registration\"].dt.month\n",
        "df[\"day_of_registration\"] = df[\"date_of_registration\"].dt.day"
      ]
    },
    {
      "cell_type": "code",
      "execution_count": 144,
      "metadata": {
        "id": "kqynJkNB0Lh1"
      },
      "outputs": [],
      "source": [
        "# Standardize the 'gender' column by replacing \"male\" with \"M\" and \"female\" with \"F\"\n",
        "df[\"gender\"] = df[\"gender\"].replace({\"male\": \"M\", \"female\": \"F\"})"
      ]
    },
    {
      "cell_type": "code",
      "execution_count": 145,
      "metadata": {
        "id": "riUlWowH0RPB"
      },
      "outputs": [],
      "source": [
        "# Store in new columns the lenght's values of the 'login_password' and 'login_username'\n",
        "df[\"password_length\"] = df[\"login_password\"].apply(len)\n",
        "df[\"login_length\"] = df[\"login_username\"].apply(len)\n"
      ]
    },
    {
      "cell_type": "markdown",
      "metadata": {
        "id": "xhnUIr6m1PW4"
      },
      "source": [
        "It is strongly reccomended to set time stamp for tracking data modifications:"
      ]
    },
    {
      "cell_type": "code",
      "execution_count": 146,
      "metadata": {
        "id": "WrYyFuuf0yyR"
      },
      "outputs": [],
      "source": [
        "# Add the current timestamp to the new 'transform_timestamp' column\n",
        "df[\"transform_timestamp\"] = datetime.now()"
      ]
    },
    {
      "cell_type": "markdown",
      "metadata": {
        "id": "SMy5YcGo2BGg"
      },
      "source": [
        "Here we stop. But even in this simple and plain dataset, there are plenty of opportunities for verifying and converting data, as well as creating new features that can provide deeper insights."
      ]
    },
    {
      "cell_type": "code",
      "execution_count": 147,
      "metadata": {
        "id": "1aeDGQpi37QC"
      },
      "outputs": [],
      "source": [
        "output_path = 'batch1000users.csv'\n",
        "df.to_csv(output_path)"
      ]
    },
    {
      "cell_type": "markdown",
      "metadata": {},
      "source": [
        "To save a DataFrame along with its data types and structure, use to_pickle(). This method preserves all metadata, including column data types, making it convenient for reloading the data exactly as it was saved."
      ]
    },
    {
      "cell_type": "code",
      "execution_count": 149,
      "metadata": {},
      "outputs": [],
      "source": [
        "output_path_pkl = 'batch1000users.pkl'\n",
        "df.to_pickle(output_path_pkl)\n"
      ]
    }
  ],
  "metadata": {
    "colab": {
      "provenance": []
    },
    "kernelspec": {
      "display_name": ".venv",
      "language": "python",
      "name": "python3"
    },
    "language_info": {
      "codemirror_mode": {
        "name": "ipython",
        "version": 3
      },
      "file_extension": ".py",
      "mimetype": "text/x-python",
      "name": "python",
      "nbconvert_exporter": "python",
      "pygments_lexer": "ipython3",
      "version": "3.10.7"
    }
  },
  "nbformat": 4,
  "nbformat_minor": 0
}
