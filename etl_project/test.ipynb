{
 "cells": [
  {
   "cell_type": "code",
   "execution_count": 37,
   "metadata": {},
   "outputs": [
    {
     "name": "stdout",
     "output_type": "stream",
     "text": [
      "<class 'pandas.core.frame.DataFrame'>\n",
      "RangeIndex: 1000 entries, 0 to 999\n",
      "Data columns (total 32 columns):\n",
      " #   Column                 Non-Null Count  Dtype  \n",
      "---  ------                 --------------  -----  \n",
      " 0   Unnamed: 0             1000 non-null   int64  \n",
      " 1   id                     1000 non-null   object \n",
      " 2   firstname              1000 non-null   object \n",
      " 3   lastname               1000 non-null   object \n",
      " 4   location_city          1000 non-null   object \n",
      " 5   location_country       1000 non-null   object \n",
      " 6   location_state         1000 non-null   object \n",
      " 7   location_latitude      1000 non-null   float64\n",
      " 8   location_longitude     1000 non-null   float64\n",
      " 9   location_postcode      1000 non-null   object \n",
      " 10  location_street_info   1000 non-null   object \n",
      " 11  email                  1000 non-null   object \n",
      " 12  gender                 1000 non-null   object \n",
      " 13  login_uuid             1000 non-null   object \n",
      " 14  login_username         1000 non-null   object \n",
      " 15  login_password         1000 non-null   object \n",
      " 16  phone                  1000 non-null   object \n",
      " 17  cell                   1000 non-null   object \n",
      " 18  date_of_birth          1000 non-null   object \n",
      " 19  age                    1000 non-null   int64  \n",
      " 20  date_of_registration   1000 non-null   object \n",
      " 21  photo_link             1000 non-null   object \n",
      " 22  extract_time           1000 non-null   object \n",
      " 23  country_iso2           1000 non-null   object \n",
      " 24  normalized_phone       1000 non-null   object \n",
      " 25  normalized_cell        1000 non-null   object \n",
      " 26  year_of_registration   1000 non-null   int64  \n",
      " 27  month_of_registration  1000 non-null   int64  \n",
      " 28  day_of_registration    1000 non-null   int64  \n",
      " 29  password_length        1000 non-null   int64  \n",
      " 30  login_length           1000 non-null   int64  \n",
      " 31  transform_timestamp    1000 non-null   object \n",
      "dtypes: float64(2), int64(7), object(23)\n",
      "memory usage: 250.1+ KB\n"
     ]
    }
   ],
   "source": [
    "import pandas as pd\n",
    "\n",
    "df = pd.read_csv('batch1000users.csv')\n",
    "\n",
    "df.info()"
   ]
  }
 ],
 "metadata": {
  "kernelspec": {
   "display_name": ".venv",
   "language": "python",
   "name": "python3"
  },
  "language_info": {
   "name": "python",
   "version": "3.10.7"
  }
 },
 "nbformat": 4,
 "nbformat_minor": 2
}
